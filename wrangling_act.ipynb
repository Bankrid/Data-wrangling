{
 "cells": [
  {
   "cell_type": "markdown",
   "id": "c86ee67d",
   "metadata": {},
   "source": [
    "# Project: Wrangling and Analyze Data (WeRateDog)"
   ]
  },
  {
   "cell_type": "markdown",
   "id": "e410a6eb",
   "metadata": {},
   "source": [
    "> WeRateDog is a Twitter handle that rate dog, upload dog image with a short description and give its followers a chance to like and re-tweet them. They are unique for using improper fractions as rating scores.  We asked WeRateDog for their twitter-archive-enhanced and they mailed it to us named twitter-archive-enhanced. I programmatically downloaded, opened it, and observed it contained basic information but not everything. Twitter-archive-enhanced lacked essential information like favorite and re-tweet counts. Also, it doesn’t contain information about the breed but thanks to Udacity for classifying the dog image uploaded using neural network procedure and saving it as image-prediction. "
   ]
  },
  {
   "cell_type": "code",
   "execution_count": 1,
   "id": "7c9f0f6e",
   "metadata": {},
   "outputs": [],
   "source": [
    "# import the libraries\n",
    "\n",
    "import tweepy\n",
    "from tweepy import OAuthHandler\n",
    "import json\n",
    "from timeit import default_timer as timer\n",
    "import pandas as pd\n",
    "import os\n",
    "import requests\n",
    "import numpy as np\n",
    "import matplotlib.pyplot as plt\n",
    "%matplotlib inline\n",
    "from PIL import Image\n",
    "from io import BytesIO"
   ]
  },
  {
   "cell_type": "code",
   "execution_count": 2,
   "id": "91336275",
   "metadata": {},
   "outputs": [],
   "source": [
    "# # Query Twitter API for each tweet in the Twitter archive and save JSON in a text file\n",
    "# # These are hidden to comply with Twitter's API terms and conditions\n",
    "\n",
    "# consumer_key = 'hidden'\n",
    "# consumer_secret = 'hidden'\n",
    "# access_token = 'hidden'\n",
    "# access_secret = 'hidden'\n",
    "\n",
    "# auth = OAuthHandler(consumer_key, consumer_secret)\n",
    "# auth.set_access_token(access_token, access_secret)\n",
    "\n",
    "# api = tweepy.API(auth, wait_on_rate_limit=True)"
   ]
  },
  {
   "cell_type": "markdown",
   "id": "b040692c",
   "metadata": {},
   "source": [
    "## Data Gathering\n",
    "1. Directly download the WeRateDogs Twitter archive data (twitter_archive_enhanced.csv)"
   ]
  },
  {
   "cell_type": "code",
   "execution_count": 3,
   "id": "95721f0e",
   "metadata": {},
   "outputs": [],
   "source": [
    "# load the datasets\n",
    "archive_df = pd.read_csv('twitter-archive-enhanced.csv')"
   ]
  },
  {
   "cell_type": "markdown",
   "id": "79b357e9",
   "metadata": {},
   "source": [
    "## Data Assessment"
   ]
  },
  {
   "cell_type": "code",
   "execution_count": 4,
   "id": "699421b2",
   "metadata": {},
   "outputs": [
    {
     "data": {
      "text/html": [
       "<div>\n",
       "<style scoped>\n",
       "    .dataframe tbody tr th:only-of-type {\n",
       "        vertical-align: middle;\n",
       "    }\n",
       "\n",
       "    .dataframe tbody tr th {\n",
       "        vertical-align: top;\n",
       "    }\n",
       "\n",
       "    .dataframe thead th {\n",
       "        text-align: right;\n",
       "    }\n",
       "</style>\n",
       "<table border=\"1\" class=\"dataframe\">\n",
       "  <thead>\n",
       "    <tr style=\"text-align: right;\">\n",
       "      <th></th>\n",
       "      <th>tweet_id</th>\n",
       "      <th>in_reply_to_status_id</th>\n",
       "      <th>in_reply_to_user_id</th>\n",
       "      <th>timestamp</th>\n",
       "      <th>source</th>\n",
       "      <th>text</th>\n",
       "      <th>retweeted_status_id</th>\n",
       "      <th>retweeted_status_user_id</th>\n",
       "      <th>retweeted_status_timestamp</th>\n",
       "      <th>expanded_urls</th>\n",
       "      <th>rating_numerator</th>\n",
       "      <th>rating_denominator</th>\n",
       "      <th>name</th>\n",
       "      <th>doggo</th>\n",
       "      <th>floofer</th>\n",
       "      <th>pupper</th>\n",
       "      <th>puppo</th>\n",
       "    </tr>\n",
       "  </thead>\n",
       "  <tbody>\n",
       "    <tr>\n",
       "      <th>0</th>\n",
       "      <td>892420643555336193</td>\n",
       "      <td>NaN</td>\n",
       "      <td>NaN</td>\n",
       "      <td>2017-08-01 16:23:56 +0000</td>\n",
       "      <td>&lt;a href=\"http://twitter.com/download/iphone\" r...</td>\n",
       "      <td>This is Phineas. He's a mystical boy. Only eve...</td>\n",
       "      <td>NaN</td>\n",
       "      <td>NaN</td>\n",
       "      <td>NaN</td>\n",
       "      <td>https://twitter.com/dog_rates/status/892420643...</td>\n",
       "      <td>13</td>\n",
       "      <td>10</td>\n",
       "      <td>Phineas</td>\n",
       "      <td>None</td>\n",
       "      <td>None</td>\n",
       "      <td>None</td>\n",
       "      <td>None</td>\n",
       "    </tr>\n",
       "    <tr>\n",
       "      <th>1</th>\n",
       "      <td>892177421306343426</td>\n",
       "      <td>NaN</td>\n",
       "      <td>NaN</td>\n",
       "      <td>2017-08-01 00:17:27 +0000</td>\n",
       "      <td>&lt;a href=\"http://twitter.com/download/iphone\" r...</td>\n",
       "      <td>This is Tilly. She's just checking pup on you....</td>\n",
       "      <td>NaN</td>\n",
       "      <td>NaN</td>\n",
       "      <td>NaN</td>\n",
       "      <td>https://twitter.com/dog_rates/status/892177421...</td>\n",
       "      <td>13</td>\n",
       "      <td>10</td>\n",
       "      <td>Tilly</td>\n",
       "      <td>None</td>\n",
       "      <td>None</td>\n",
       "      <td>None</td>\n",
       "      <td>None</td>\n",
       "    </tr>\n",
       "    <tr>\n",
       "      <th>2</th>\n",
       "      <td>891815181378084864</td>\n",
       "      <td>NaN</td>\n",
       "      <td>NaN</td>\n",
       "      <td>2017-07-31 00:18:03 +0000</td>\n",
       "      <td>&lt;a href=\"http://twitter.com/download/iphone\" r...</td>\n",
       "      <td>This is Archie. He is a rare Norwegian Pouncin...</td>\n",
       "      <td>NaN</td>\n",
       "      <td>NaN</td>\n",
       "      <td>NaN</td>\n",
       "      <td>https://twitter.com/dog_rates/status/891815181...</td>\n",
       "      <td>12</td>\n",
       "      <td>10</td>\n",
       "      <td>Archie</td>\n",
       "      <td>None</td>\n",
       "      <td>None</td>\n",
       "      <td>None</td>\n",
       "      <td>None</td>\n",
       "    </tr>\n",
       "    <tr>\n",
       "      <th>3</th>\n",
       "      <td>891689557279858688</td>\n",
       "      <td>NaN</td>\n",
       "      <td>NaN</td>\n",
       "      <td>2017-07-30 15:58:51 +0000</td>\n",
       "      <td>&lt;a href=\"http://twitter.com/download/iphone\" r...</td>\n",
       "      <td>This is Darla. She commenced a snooze mid meal...</td>\n",
       "      <td>NaN</td>\n",
       "      <td>NaN</td>\n",
       "      <td>NaN</td>\n",
       "      <td>https://twitter.com/dog_rates/status/891689557...</td>\n",
       "      <td>13</td>\n",
       "      <td>10</td>\n",
       "      <td>Darla</td>\n",
       "      <td>None</td>\n",
       "      <td>None</td>\n",
       "      <td>None</td>\n",
       "      <td>None</td>\n",
       "    </tr>\n",
       "    <tr>\n",
       "      <th>4</th>\n",
       "      <td>891327558926688256</td>\n",
       "      <td>NaN</td>\n",
       "      <td>NaN</td>\n",
       "      <td>2017-07-29 16:00:24 +0000</td>\n",
       "      <td>&lt;a href=\"http://twitter.com/download/iphone\" r...</td>\n",
       "      <td>This is Franklin. He would like you to stop ca...</td>\n",
       "      <td>NaN</td>\n",
       "      <td>NaN</td>\n",
       "      <td>NaN</td>\n",
       "      <td>https://twitter.com/dog_rates/status/891327558...</td>\n",
       "      <td>12</td>\n",
       "      <td>10</td>\n",
       "      <td>Franklin</td>\n",
       "      <td>None</td>\n",
       "      <td>None</td>\n",
       "      <td>None</td>\n",
       "      <td>None</td>\n",
       "    </tr>\n",
       "  </tbody>\n",
       "</table>\n",
       "</div>"
      ],
      "text/plain": [
       "             tweet_id  in_reply_to_status_id  in_reply_to_user_id  \\\n",
       "0  892420643555336193                    NaN                  NaN   \n",
       "1  892177421306343426                    NaN                  NaN   \n",
       "2  891815181378084864                    NaN                  NaN   \n",
       "3  891689557279858688                    NaN                  NaN   \n",
       "4  891327558926688256                    NaN                  NaN   \n",
       "\n",
       "                   timestamp  \\\n",
       "0  2017-08-01 16:23:56 +0000   \n",
       "1  2017-08-01 00:17:27 +0000   \n",
       "2  2017-07-31 00:18:03 +0000   \n",
       "3  2017-07-30 15:58:51 +0000   \n",
       "4  2017-07-29 16:00:24 +0000   \n",
       "\n",
       "                                              source  \\\n",
       "0  <a href=\"http://twitter.com/download/iphone\" r...   \n",
       "1  <a href=\"http://twitter.com/download/iphone\" r...   \n",
       "2  <a href=\"http://twitter.com/download/iphone\" r...   \n",
       "3  <a href=\"http://twitter.com/download/iphone\" r...   \n",
       "4  <a href=\"http://twitter.com/download/iphone\" r...   \n",
       "\n",
       "                                                text  retweeted_status_id  \\\n",
       "0  This is Phineas. He's a mystical boy. Only eve...                  NaN   \n",
       "1  This is Tilly. She's just checking pup on you....                  NaN   \n",
       "2  This is Archie. He is a rare Norwegian Pouncin...                  NaN   \n",
       "3  This is Darla. She commenced a snooze mid meal...                  NaN   \n",
       "4  This is Franklin. He would like you to stop ca...                  NaN   \n",
       "\n",
       "   retweeted_status_user_id retweeted_status_timestamp  \\\n",
       "0                       NaN                        NaN   \n",
       "1                       NaN                        NaN   \n",
       "2                       NaN                        NaN   \n",
       "3                       NaN                        NaN   \n",
       "4                       NaN                        NaN   \n",
       "\n",
       "                                       expanded_urls  rating_numerator  \\\n",
       "0  https://twitter.com/dog_rates/status/892420643...                13   \n",
       "1  https://twitter.com/dog_rates/status/892177421...                13   \n",
       "2  https://twitter.com/dog_rates/status/891815181...                12   \n",
       "3  https://twitter.com/dog_rates/status/891689557...                13   \n",
       "4  https://twitter.com/dog_rates/status/891327558...                12   \n",
       "\n",
       "   rating_denominator      name doggo floofer pupper puppo  \n",
       "0                  10   Phineas  None    None   None  None  \n",
       "1                  10     Tilly  None    None   None  None  \n",
       "2                  10    Archie  None    None   None  None  \n",
       "3                  10     Darla  None    None   None  None  \n",
       "4                  10  Franklin  None    None   None  None  "
      ]
     },
     "execution_count": 4,
     "metadata": {},
     "output_type": "execute_result"
    }
   ],
   "source": [
    "archive_df.head()"
   ]
  },
  {
   "cell_type": "markdown",
   "id": "e016cee9",
   "metadata": {},
   "source": [
    "### Quality\n",
    "1. incomplete data (no favorite count, no retweet count)\n",
    "2. inconsistent way of representing missing values (NaN and None)\n",
    "3. Some columns: `in_reply_to_status_id`, `in_reply_to_user_id`, `retweeted_status_id`, `retweeted_status_user_id`, and `retweeted_status_timestamp` contains little observation\n",
    "\n",
    "### Tidiness\n",
    "1. dog age (doggo, fluffer, pupper, and puppo) is in four columns instead of one"
   ]
  },
  {
   "cell_type": "code",
   "execution_count": 5,
   "id": "c5d5bd64",
   "metadata": {},
   "outputs": [
    {
     "data": {
      "text/plain": [
       "(2356, 17)"
      ]
     },
     "execution_count": 5,
     "metadata": {},
     "output_type": "execute_result"
    }
   ],
   "source": [
    "archive_df.shape"
   ]
  },
  {
   "cell_type": "markdown",
   "id": "6c3d73d9",
   "metadata": {},
   "source": [
    "There are 2356 tweet_id and 17 variables"
   ]
  },
  {
   "cell_type": "code",
   "execution_count": 6,
   "id": "73efb3d5",
   "metadata": {},
   "outputs": [
    {
     "data": {
      "text/plain": [
       "0"
      ]
     },
     "execution_count": 6,
     "metadata": {},
     "output_type": "execute_result"
    }
   ],
   "source": [
    "archive_df.duplicated().sum()"
   ]
  },
  {
   "cell_type": "markdown",
   "id": "0814c921",
   "metadata": {},
   "source": [
    "There is no duplicated entry (tweet)"
   ]
  },
  {
   "cell_type": "code",
   "execution_count": 7,
   "id": "c787a348",
   "metadata": {},
   "outputs": [
    {
     "data": {
      "text/plain": [
       "2356"
      ]
     },
     "execution_count": 7,
     "metadata": {},
     "output_type": "execute_result"
    }
   ],
   "source": [
    "# check the number of tweet_ID\n",
    "tweet_ids = archive_df.tweet_id.values\n",
    "len(tweet_ids)"
   ]
  },
  {
   "cell_type": "code",
   "execution_count": 8,
   "id": "f36d50f5",
   "metadata": {},
   "outputs": [
    {
     "name": "stdout",
     "output_type": "stream",
     "text": [
      "<class 'pandas.core.frame.DataFrame'>\n",
      "RangeIndex: 2356 entries, 0 to 2355\n",
      "Data columns (total 17 columns):\n",
      " #   Column                      Non-Null Count  Dtype  \n",
      "---  ------                      --------------  -----  \n",
      " 0   tweet_id                    2356 non-null   int64  \n",
      " 1   in_reply_to_status_id       78 non-null     float64\n",
      " 2   in_reply_to_user_id         78 non-null     float64\n",
      " 3   timestamp                   2356 non-null   object \n",
      " 4   source                      2356 non-null   object \n",
      " 5   text                        2356 non-null   object \n",
      " 6   retweeted_status_id         181 non-null    float64\n",
      " 7   retweeted_status_user_id    181 non-null    float64\n",
      " 8   retweeted_status_timestamp  181 non-null    object \n",
      " 9   expanded_urls               2297 non-null   object \n",
      " 10  rating_numerator            2356 non-null   int64  \n",
      " 11  rating_denominator          2356 non-null   int64  \n",
      " 12  name                        2356 non-null   object \n",
      " 13  doggo                       2356 non-null   object \n",
      " 14  floofer                     2356 non-null   object \n",
      " 15  pupper                      2356 non-null   object \n",
      " 16  puppo                       2356 non-null   object \n",
      "dtypes: float64(4), int64(3), object(10)\n",
      "memory usage: 313.0+ KB\n"
     ]
    }
   ],
   "source": [
    "archive_df.info()"
   ]
  },
  {
   "cell_type": "markdown",
   "id": "00d766e9",
   "metadata": {},
   "source": [
    "### Quality\n",
    "4. timestamp datatype is object and tweet_id is int"
   ]
  },
  {
   "cell_type": "code",
   "execution_count": 9,
   "id": "cde25182",
   "metadata": {},
   "outputs": [
    {
     "data": {
      "text/plain": [
       "12      558\n",
       "11      464\n",
       "10      461\n",
       "13      351\n",
       "9       158\n",
       "8       102\n",
       "7        55\n",
       "14       54\n",
       "5        37\n",
       "6        32\n",
       "3        19\n",
       "4        17\n",
       "2         9\n",
       "1         9\n",
       "75        2\n",
       "15        2\n",
       "420       2\n",
       "0         2\n",
       "80        1\n",
       "144       1\n",
       "17        1\n",
       "26        1\n",
       "20        1\n",
       "121       1\n",
       "143       1\n",
       "44        1\n",
       "60        1\n",
       "45        1\n",
       "50        1\n",
       "99        1\n",
       "204       1\n",
       "1776      1\n",
       "165       1\n",
       "666       1\n",
       "27        1\n",
       "182       1\n",
       "24        1\n",
       "960       1\n",
       "84        1\n",
       "88        1\n",
       "Name: rating_numerator, dtype: int64"
      ]
     },
     "execution_count": 9,
     "metadata": {},
     "output_type": "execute_result"
    }
   ],
   "source": [
    "archive_df.rating_numerator.value_counts()"
   ]
  },
  {
   "cell_type": "markdown",
   "id": "dbc86693",
   "metadata": {},
   "source": [
    "* rating numerator > 15 and ratiing numerator == 0 has frequency <= 2"
   ]
  },
  {
   "cell_type": "code",
   "execution_count": 10,
   "id": "952c7c6d",
   "metadata": {},
   "outputs": [
    {
     "data": {
      "text/html": [
       "<div>\n",
       "<style scoped>\n",
       "    .dataframe tbody tr th:only-of-type {\n",
       "        vertical-align: middle;\n",
       "    }\n",
       "\n",
       "    .dataframe tbody tr th {\n",
       "        vertical-align: top;\n",
       "    }\n",
       "\n",
       "    .dataframe thead th {\n",
       "        text-align: right;\n",
       "    }\n",
       "</style>\n",
       "<table border=\"1\" class=\"dataframe\">\n",
       "  <thead>\n",
       "    <tr style=\"text-align: right;\">\n",
       "      <th></th>\n",
       "      <th>tweet_id</th>\n",
       "      <th>text</th>\n",
       "      <th>rating_numerator</th>\n",
       "    </tr>\n",
       "  </thead>\n",
       "  <tbody>\n",
       "    <tr>\n",
       "      <th>55</th>\n",
       "      <td>881633300179243008</td>\n",
       "      <td>@roushfenway These are good dogs but 17/10 is ...</td>\n",
       "      <td>17</td>\n",
       "    </tr>\n",
       "    <tr>\n",
       "      <th>188</th>\n",
       "      <td>855862651834028034</td>\n",
       "      <td>@dhmontgomery We also gave snoop dogg a 420/10...</td>\n",
       "      <td>420</td>\n",
       "    </tr>\n",
       "    <tr>\n",
       "      <th>189</th>\n",
       "      <td>855860136149123072</td>\n",
       "      <td>@s8n You tried very hard to portray this good ...</td>\n",
       "      <td>666</td>\n",
       "    </tr>\n",
       "    <tr>\n",
       "      <th>290</th>\n",
       "      <td>838150277551247360</td>\n",
       "      <td>@markhoppus 182/10</td>\n",
       "      <td>182</td>\n",
       "    </tr>\n",
       "    <tr>\n",
       "      <th>313</th>\n",
       "      <td>835246439529840640</td>\n",
       "      <td>@jonnysun @Lin_Manuel ok jomny I know you're e...</td>\n",
       "      <td>960</td>\n",
       "    </tr>\n",
       "    <tr>\n",
       "      <th>315</th>\n",
       "      <td>835152434251116546</td>\n",
       "      <td>When you're so blinded by your systematic plag...</td>\n",
       "      <td>0</td>\n",
       "    </tr>\n",
       "    <tr>\n",
       "      <th>340</th>\n",
       "      <td>832215909146226688</td>\n",
       "      <td>RT @dog_rates: This is Logan, the Chow who liv...</td>\n",
       "      <td>75</td>\n",
       "    </tr>\n",
       "    <tr>\n",
       "      <th>433</th>\n",
       "      <td>820690176645140481</td>\n",
       "      <td>The floofs have been released I repeat the flo...</td>\n",
       "      <td>84</td>\n",
       "    </tr>\n",
       "    <tr>\n",
       "      <th>516</th>\n",
       "      <td>810984652412424192</td>\n",
       "      <td>Meet Sam. She smiles 24/7 &amp;amp; secretly aspir...</td>\n",
       "      <td>24</td>\n",
       "    </tr>\n",
       "    <tr>\n",
       "      <th>695</th>\n",
       "      <td>786709082849828864</td>\n",
       "      <td>This is Logan, the Chow who lived. He solemnly...</td>\n",
       "      <td>75</td>\n",
       "    </tr>\n",
       "  </tbody>\n",
       "</table>\n",
       "</div>"
      ],
      "text/plain": [
       "               tweet_id                                               text  \\\n",
       "55   881633300179243008  @roushfenway These are good dogs but 17/10 is ...   \n",
       "188  855862651834028034  @dhmontgomery We also gave snoop dogg a 420/10...   \n",
       "189  855860136149123072  @s8n You tried very hard to portray this good ...   \n",
       "290  838150277551247360                                 @markhoppus 182/10   \n",
       "313  835246439529840640  @jonnysun @Lin_Manuel ok jomny I know you're e...   \n",
       "315  835152434251116546  When you're so blinded by your systematic plag...   \n",
       "340  832215909146226688  RT @dog_rates: This is Logan, the Chow who liv...   \n",
       "433  820690176645140481  The floofs have been released I repeat the flo...   \n",
       "516  810984652412424192  Meet Sam. She smiles 24/7 &amp; secretly aspir...   \n",
       "695  786709082849828864  This is Logan, the Chow who lived. He solemnly...   \n",
       "\n",
       "     rating_numerator  \n",
       "55                 17  \n",
       "188               420  \n",
       "189               666  \n",
       "290               182  \n",
       "313               960  \n",
       "315                 0  \n",
       "340                75  \n",
       "433                84  \n",
       "516                24  \n",
       "695                75  "
      ]
     },
     "execution_count": 10,
     "metadata": {},
     "output_type": "execute_result"
    }
   ],
   "source": [
    "# Extract rating numerator > 15 and rating_numerator == 0 for visual inspection\n",
    "rating_numerator_with_issue = archive_df[(archive_df['rating_numerator'] > 15) | (archive_df['rating_numerator'] == 0)][['tweet_id', 'text', 'rating_numerator']]\n",
    "rating_numerator_with_issue.head(10) "
   ]
  },
  {
   "cell_type": "markdown",
   "id": "9554f401",
   "metadata": {},
   "source": [
    "### Quality \n",
    "5. erronous rating score for most of the rating_numerator > 15 and the rating numerator == 0 "
   ]
  },
  {
   "cell_type": "code",
   "execution_count": 11,
   "id": "ffe6511a",
   "metadata": {},
   "outputs": [
    {
     "data": {
      "text/plain": [
       "10     2333\n",
       "11        3\n",
       "50        3\n",
       "20        2\n",
       "80        2\n",
       "70        1\n",
       "7         1\n",
       "15        1\n",
       "150       1\n",
       "170       1\n",
       "0         1\n",
       "90        1\n",
       "40        1\n",
       "130       1\n",
       "110       1\n",
       "16        1\n",
       "120       1\n",
       "2         1\n",
       "Name: rating_denominator, dtype: int64"
      ]
     },
     "execution_count": 11,
     "metadata": {},
     "output_type": "execute_result"
    }
   ],
   "source": [
    "archive_df.rating_denominator.value_counts()"
   ]
  },
  {
   "cell_type": "markdown",
   "id": "fdacd24d",
   "metadata": {},
   "source": [
    "* aside 10, other denominators have a frequency <= 3"
   ]
  },
  {
   "cell_type": "code",
   "execution_count": 12,
   "id": "2ba70338",
   "metadata": {},
   "outputs": [
    {
     "data": {
      "text/html": [
       "<div>\n",
       "<style scoped>\n",
       "    .dataframe tbody tr th:only-of-type {\n",
       "        vertical-align: middle;\n",
       "    }\n",
       "\n",
       "    .dataframe tbody tr th {\n",
       "        vertical-align: top;\n",
       "    }\n",
       "\n",
       "    .dataframe thead th {\n",
       "        text-align: right;\n",
       "    }\n",
       "</style>\n",
       "<table border=\"1\" class=\"dataframe\">\n",
       "  <thead>\n",
       "    <tr style=\"text-align: right;\">\n",
       "      <th></th>\n",
       "      <th>tweet_id</th>\n",
       "      <th>text</th>\n",
       "      <th>rating_denominator</th>\n",
       "    </tr>\n",
       "  </thead>\n",
       "  <tbody>\n",
       "    <tr>\n",
       "      <th>313</th>\n",
       "      <td>835246439529840640</td>\n",
       "      <td>@jonnysun @Lin_Manuel ok jomny I know you're e...</td>\n",
       "      <td>0</td>\n",
       "    </tr>\n",
       "    <tr>\n",
       "      <th>342</th>\n",
       "      <td>832088576586297345</td>\n",
       "      <td>@docmisterio account started on 11/15/15</td>\n",
       "      <td>15</td>\n",
       "    </tr>\n",
       "    <tr>\n",
       "      <th>433</th>\n",
       "      <td>820690176645140481</td>\n",
       "      <td>The floofs have been released I repeat the flo...</td>\n",
       "      <td>70</td>\n",
       "    </tr>\n",
       "    <tr>\n",
       "      <th>516</th>\n",
       "      <td>810984652412424192</td>\n",
       "      <td>Meet Sam. She smiles 24/7 &amp;amp; secretly aspir...</td>\n",
       "      <td>7</td>\n",
       "    </tr>\n",
       "    <tr>\n",
       "      <th>784</th>\n",
       "      <td>775096608509886464</td>\n",
       "      <td>RT @dog_rates: After so many requests, this is...</td>\n",
       "      <td>11</td>\n",
       "    </tr>\n",
       "    <tr>\n",
       "      <th>902</th>\n",
       "      <td>758467244762497024</td>\n",
       "      <td>Why does this never happen at my front door......</td>\n",
       "      <td>150</td>\n",
       "    </tr>\n",
       "    <tr>\n",
       "      <th>1068</th>\n",
       "      <td>740373189193256964</td>\n",
       "      <td>After so many requests, this is Bretagne. She ...</td>\n",
       "      <td>11</td>\n",
       "    </tr>\n",
       "    <tr>\n",
       "      <th>1120</th>\n",
       "      <td>731156023742988288</td>\n",
       "      <td>Say hello to this unbelievably well behaved sq...</td>\n",
       "      <td>170</td>\n",
       "    </tr>\n",
       "    <tr>\n",
       "      <th>1165</th>\n",
       "      <td>722974582966214656</td>\n",
       "      <td>Happy 4/20 from the squad! 13/10 for all https...</td>\n",
       "      <td>20</td>\n",
       "    </tr>\n",
       "    <tr>\n",
       "      <th>1202</th>\n",
       "      <td>716439118184652801</td>\n",
       "      <td>This is Bluebert. He just saw that both #Final...</td>\n",
       "      <td>50</td>\n",
       "    </tr>\n",
       "  </tbody>\n",
       "</table>\n",
       "</div>"
      ],
      "text/plain": [
       "                tweet_id                                               text  \\\n",
       "313   835246439529840640  @jonnysun @Lin_Manuel ok jomny I know you're e...   \n",
       "342   832088576586297345           @docmisterio account started on 11/15/15   \n",
       "433   820690176645140481  The floofs have been released I repeat the flo...   \n",
       "516   810984652412424192  Meet Sam. She smiles 24/7 &amp; secretly aspir...   \n",
       "784   775096608509886464  RT @dog_rates: After so many requests, this is...   \n",
       "902   758467244762497024  Why does this never happen at my front door......   \n",
       "1068  740373189193256964  After so many requests, this is Bretagne. She ...   \n",
       "1120  731156023742988288  Say hello to this unbelievably well behaved sq...   \n",
       "1165  722974582966214656  Happy 4/20 from the squad! 13/10 for all https...   \n",
       "1202  716439118184652801  This is Bluebert. He just saw that both #Final...   \n",
       "\n",
       "      rating_denominator  \n",
       "313                    0  \n",
       "342                   15  \n",
       "433                   70  \n",
       "516                    7  \n",
       "784                   11  \n",
       "902                  150  \n",
       "1068                  11  \n",
       "1120                 170  \n",
       "1165                  20  \n",
       "1202                  50  "
      ]
     },
     "execution_count": 12,
     "metadata": {},
     "output_type": "execute_result"
    }
   ],
   "source": [
    "# extract denominator order than 10 for visual inspection\n",
    "rating_denominator_with_issue = archive_df[archive_df.rating_denominator != 10][['tweet_id', 'text', 'rating_denominator']]\n",
    "rating_denominator_with_issue.head(10)"
   ]
  },
  {
   "cell_type": "markdown",
   "id": "db296f0a",
   "metadata": {},
   "source": [
    "### Quality\n",
    "6. erronous rating score for most of the rating_denominator != 10\n"
   ]
  },
  {
   "cell_type": "code",
   "execution_count": 13,
   "id": "4eb9583a",
   "metadata": {},
   "outputs": [
    {
     "data": {
      "text/plain": [
       "array(['<a href=\"http://twitter.com/download/iphone\" rel=\"nofollow\">Twitter for iPhone</a>',\n",
       "       '<a href=\"http://twitter.com\" rel=\"nofollow\">Twitter Web Client</a>',\n",
       "       '<a href=\"http://vine.co\" rel=\"nofollow\">Vine - Make a Scene</a>',\n",
       "       '<a href=\"https://about.twitter.com/products/tweetdeck\" rel=\"nofollow\">TweetDeck</a>'],\n",
       "      dtype=object)"
      ]
     },
     "execution_count": 13,
     "metadata": {},
     "output_type": "execute_result"
    }
   ],
   "source": [
    "archive_df.source.unique()"
   ]
  },
  {
   "cell_type": "markdown",
   "id": "42f97193",
   "metadata": {},
   "source": [
    "### Quality\n",
    "7. Source written as link instead of exact name of the source"
   ]
  },
  {
   "cell_type": "code",
   "execution_count": 14,
   "id": "4e58ebaf",
   "metadata": {},
   "outputs": [
    {
     "data": {
      "text/plain": [
       "array(['such', 'a', 'quite', 'not', 'one', 'incredibly', 'mad', 'an',\n",
       "       'very', 'just', 'my', 'his', 'actually', 'getting', 'this',\n",
       "       'unacceptable', 'all', 'old', 'infuriating', 'the', 'by',\n",
       "       'officially', 'life', 'light', 'space'], dtype=object)"
      ]
     },
     "execution_count": 14,
     "metadata": {},
     "output_type": "execute_result"
    }
   ],
   "source": [
    "archive_df[archive_df.name.str.islower()]['name'].unique()"
   ]
  },
  {
   "cell_type": "markdown",
   "id": "b4c15e24",
   "metadata": {},
   "source": [
    "### Quality\n",
    "8. wrong dog name ('a', 'such', 'quite' etc)"
   ]
  },
  {
   "cell_type": "markdown",
   "id": "6c12e68e",
   "metadata": {},
   "source": [
    "2. Use the Requests library to download the tweet image prediction (image_predictions.tsv)"
   ]
  },
  {
   "cell_type": "code",
   "execution_count": 15,
   "id": "caf62fac",
   "metadata": {},
   "outputs": [
    {
     "data": {
      "text/html": [
       "<div>\n",
       "<style scoped>\n",
       "    .dataframe tbody tr th:only-of-type {\n",
       "        vertical-align: middle;\n",
       "    }\n",
       "\n",
       "    .dataframe tbody tr th {\n",
       "        vertical-align: top;\n",
       "    }\n",
       "\n",
       "    .dataframe thead th {\n",
       "        text-align: right;\n",
       "    }\n",
       "</style>\n",
       "<table border=\"1\" class=\"dataframe\">\n",
       "  <thead>\n",
       "    <tr style=\"text-align: right;\">\n",
       "      <th></th>\n",
       "      <th>tweet_id</th>\n",
       "      <th>jpg_url</th>\n",
       "      <th>img_num</th>\n",
       "      <th>p1</th>\n",
       "      <th>p1_conf</th>\n",
       "      <th>p1_dog</th>\n",
       "      <th>p2</th>\n",
       "      <th>p2_conf</th>\n",
       "      <th>p2_dog</th>\n",
       "      <th>p3</th>\n",
       "      <th>p3_conf</th>\n",
       "      <th>p3_dog</th>\n",
       "    </tr>\n",
       "  </thead>\n",
       "  <tbody>\n",
       "    <tr>\n",
       "      <th>0</th>\n",
       "      <td>666020888022790149</td>\n",
       "      <td>https://pbs.twimg.com/media/CT4udn0WwAA0aMy.jpg</td>\n",
       "      <td>1</td>\n",
       "      <td>Welsh_springer_spaniel</td>\n",
       "      <td>0.465074</td>\n",
       "      <td>True</td>\n",
       "      <td>collie</td>\n",
       "      <td>0.156665</td>\n",
       "      <td>True</td>\n",
       "      <td>Shetland_sheepdog</td>\n",
       "      <td>0.061428</td>\n",
       "      <td>True</td>\n",
       "    </tr>\n",
       "    <tr>\n",
       "      <th>1</th>\n",
       "      <td>666029285002620928</td>\n",
       "      <td>https://pbs.twimg.com/media/CT42GRgUYAA5iDo.jpg</td>\n",
       "      <td>1</td>\n",
       "      <td>redbone</td>\n",
       "      <td>0.506826</td>\n",
       "      <td>True</td>\n",
       "      <td>miniature_pinscher</td>\n",
       "      <td>0.074192</td>\n",
       "      <td>True</td>\n",
       "      <td>Rhodesian_ridgeback</td>\n",
       "      <td>0.072010</td>\n",
       "      <td>True</td>\n",
       "    </tr>\n",
       "    <tr>\n",
       "      <th>2</th>\n",
       "      <td>666033412701032449</td>\n",
       "      <td>https://pbs.twimg.com/media/CT4521TWwAEvMyu.jpg</td>\n",
       "      <td>1</td>\n",
       "      <td>German_shepherd</td>\n",
       "      <td>0.596461</td>\n",
       "      <td>True</td>\n",
       "      <td>malinois</td>\n",
       "      <td>0.138584</td>\n",
       "      <td>True</td>\n",
       "      <td>bloodhound</td>\n",
       "      <td>0.116197</td>\n",
       "      <td>True</td>\n",
       "    </tr>\n",
       "    <tr>\n",
       "      <th>3</th>\n",
       "      <td>666044226329800704</td>\n",
       "      <td>https://pbs.twimg.com/media/CT5Dr8HUEAA-lEu.jpg</td>\n",
       "      <td>1</td>\n",
       "      <td>Rhodesian_ridgeback</td>\n",
       "      <td>0.408143</td>\n",
       "      <td>True</td>\n",
       "      <td>redbone</td>\n",
       "      <td>0.360687</td>\n",
       "      <td>True</td>\n",
       "      <td>miniature_pinscher</td>\n",
       "      <td>0.222752</td>\n",
       "      <td>True</td>\n",
       "    </tr>\n",
       "    <tr>\n",
       "      <th>4</th>\n",
       "      <td>666049248165822465</td>\n",
       "      <td>https://pbs.twimg.com/media/CT5IQmsXIAAKY4A.jpg</td>\n",
       "      <td>1</td>\n",
       "      <td>miniature_pinscher</td>\n",
       "      <td>0.560311</td>\n",
       "      <td>True</td>\n",
       "      <td>Rottweiler</td>\n",
       "      <td>0.243682</td>\n",
       "      <td>True</td>\n",
       "      <td>Doberman</td>\n",
       "      <td>0.154629</td>\n",
       "      <td>True</td>\n",
       "    </tr>\n",
       "  </tbody>\n",
       "</table>\n",
       "</div>"
      ],
      "text/plain": [
       "             tweet_id                                          jpg_url  \\\n",
       "0  666020888022790149  https://pbs.twimg.com/media/CT4udn0WwAA0aMy.jpg   \n",
       "1  666029285002620928  https://pbs.twimg.com/media/CT42GRgUYAA5iDo.jpg   \n",
       "2  666033412701032449  https://pbs.twimg.com/media/CT4521TWwAEvMyu.jpg   \n",
       "3  666044226329800704  https://pbs.twimg.com/media/CT5Dr8HUEAA-lEu.jpg   \n",
       "4  666049248165822465  https://pbs.twimg.com/media/CT5IQmsXIAAKY4A.jpg   \n",
       "\n",
       "   img_num                      p1   p1_conf  p1_dog                  p2  \\\n",
       "0        1  Welsh_springer_spaniel  0.465074    True              collie   \n",
       "1        1                 redbone  0.506826    True  miniature_pinscher   \n",
       "2        1         German_shepherd  0.596461    True            malinois   \n",
       "3        1     Rhodesian_ridgeback  0.408143    True             redbone   \n",
       "4        1      miniature_pinscher  0.560311    True          Rottweiler   \n",
       "\n",
       "    p2_conf  p2_dog                   p3   p3_conf  p3_dog  \n",
       "0  0.156665    True    Shetland_sheepdog  0.061428    True  \n",
       "1  0.074192    True  Rhodesian_ridgeback  0.072010    True  \n",
       "2  0.138584    True           bloodhound  0.116197    True  \n",
       "3  0.360687    True   miniature_pinscher  0.222752    True  \n",
       "4  0.243682    True             Doberman  0.154629    True  "
      ]
     },
     "execution_count": 15,
     "metadata": {},
     "output_type": "execute_result"
    }
   ],
   "source": [
    "# url = 'https://d17h27t6h515a5.cloudfront.net/topher/2017/August/599fd2ad_image-predictions/image-predictions.tsv'\n",
    "\n",
    "# response = requests.get(url)\n",
    "\n",
    "# with open(os.path.join('image_pediction.tsv'), 'wb') as file:\n",
    "#     image_prediction = file.write(response.content)\n",
    "\n",
    "image_prediction_df = pd.read_csv('image_pediction.tsv', sep = '\\t')\n",
    "image_prediction_df.head()"
   ]
  },
  {
   "cell_type": "markdown",
   "id": "9064fa10",
   "metadata": {},
   "source": [
    "### Tidiness\n",
    "\n",
    "2. image_prediction_df should be part of the archive table \n",
    "3. Multiple beeds name (p1, p2, and p3) predicted for a dog "
   ]
  },
  {
   "cell_type": "code",
   "execution_count": 16,
   "id": "cbbe486c",
   "metadata": {},
   "outputs": [
    {
     "data": {
      "text/plain": [
       "tweet_id    0\n",
       "jpg_url     0\n",
       "img_num     0\n",
       "p1          0\n",
       "p1_conf     0\n",
       "p1_dog      0\n",
       "p2          0\n",
       "p2_conf     0\n",
       "p2_dog      0\n",
       "p3          0\n",
       "p3_conf     0\n",
       "p3_dog      0\n",
       "dtype: int64"
      ]
     },
     "execution_count": 16,
     "metadata": {},
     "output_type": "execute_result"
    }
   ],
   "source": [
    "image_prediction_df.isnull().sum()"
   ]
  },
  {
   "cell_type": "markdown",
   "id": "cede0a7f",
   "metadata": {},
   "source": [
    "There is no null value"
   ]
  },
  {
   "cell_type": "code",
   "execution_count": 17,
   "id": "fd0ff6b7",
   "metadata": {},
   "outputs": [
    {
     "data": {
      "text/plain": [
       "0"
      ]
     },
     "execution_count": 17,
     "metadata": {},
     "output_type": "execute_result"
    }
   ],
   "source": [
    "image_prediction_df.duplicated().sum()"
   ]
  },
  {
   "cell_type": "markdown",
   "id": "6cf372ed",
   "metadata": {},
   "source": [
    "There is no duplicated row"
   ]
  },
  {
   "cell_type": "code",
   "execution_count": 18,
   "id": "e648e166",
   "metadata": {},
   "outputs": [
    {
     "name": "stdout",
     "output_type": "stream",
     "text": [
      "<class 'pandas.core.frame.DataFrame'>\n",
      "RangeIndex: 2075 entries, 0 to 2074\n",
      "Data columns (total 12 columns):\n",
      " #   Column    Non-Null Count  Dtype  \n",
      "---  ------    --------------  -----  \n",
      " 0   tweet_id  2075 non-null   int64  \n",
      " 1   jpg_url   2075 non-null   object \n",
      " 2   img_num   2075 non-null   int64  \n",
      " 3   p1        2075 non-null   object \n",
      " 4   p1_conf   2075 non-null   float64\n",
      " 5   p1_dog    2075 non-null   bool   \n",
      " 6   p2        2075 non-null   object \n",
      " 7   p2_conf   2075 non-null   float64\n",
      " 8   p2_dog    2075 non-null   bool   \n",
      " 9   p3        2075 non-null   object \n",
      " 10  p3_conf   2075 non-null   float64\n",
      " 11  p3_dog    2075 non-null   bool   \n",
      "dtypes: bool(3), float64(3), int64(2), object(4)\n",
      "memory usage: 152.1+ KB\n"
     ]
    }
   ],
   "source": [
    "image_prediction_df.info()"
   ]
  },
  {
   "cell_type": "markdown",
   "id": "1927ac05",
   "metadata": {},
   "source": [
    "### Quality\n",
    "5. tweet_id datatype is int\n",
    "\n"
   ]
  },
  {
   "cell_type": "markdown",
   "id": "33b0f093",
   "metadata": {},
   "source": [
    "3. Use the Tweepy library to query additional data via the Twitter API (tweet_json.txt)"
   ]
  },
  {
   "cell_type": "code",
   "execution_count": 19,
   "id": "3f1be43b",
   "metadata": {},
   "outputs": [],
   "source": [
    "# counter = 0\n",
    "# fail_dict = {}\n",
    "# start = timer()\n",
    "# with open('tweet.txt', 'w') as file:\n",
    "#     for tweet_id in tweet_ids:\n",
    "#         counter += 1\n",
    "#         print(str(counter) + ': ' + str(tweet_id))\n",
    "#         try:\n",
    "#             tweet = api.get_status(tweet_id, tweet_mode = 'extended')\n",
    "#             print('success')\n",
    "#             json.dump(tweet._json, file)\n",
    "#             file.write('\\n')\n",
    "#         except tweepy.errors.TweepyException as e:\n",
    "#             print('fail')\n",
    "#             fail_dict[tweet_id] = e\n",
    "#             pass\n",
    "# end = timer()\n",
    "# print(end - start)\n",
    "# print(fail_dict)"
   ]
  },
  {
   "cell_type": "code",
   "execution_count": 20,
   "id": "3fdc409f",
   "metadata": {},
   "outputs": [],
   "source": [
    "tweet_list = []\n",
    "with open(\"tweet.txt\") as p:\n",
    "    for line in p:\n",
    "        data = json.loads(line)\n",
    "        tweet_id = data['id']\n",
    "        retweet_count = data['retweet_count']\n",
    "        favorite_count = data['favorite_count']\n",
    "        year = data['created_at'].split(' ')[-1]\n",
    "        tweet_list.append({'tweet_id': tweet_id,\n",
    "                        'retweet_count': retweet_count,\n",
    "                        'favorite_count': favorite_count})\n",
    "\n",
    "tweet_df = pd.DataFrame(tweet_list)"
   ]
  },
  {
   "cell_type": "code",
   "execution_count": 21,
   "id": "3d583ca2",
   "metadata": {},
   "outputs": [
    {
     "data": {
      "text/html": [
       "<div>\n",
       "<style scoped>\n",
       "    .dataframe tbody tr th:only-of-type {\n",
       "        vertical-align: middle;\n",
       "    }\n",
       "\n",
       "    .dataframe tbody tr th {\n",
       "        vertical-align: top;\n",
       "    }\n",
       "\n",
       "    .dataframe thead th {\n",
       "        text-align: right;\n",
       "    }\n",
       "</style>\n",
       "<table border=\"1\" class=\"dataframe\">\n",
       "  <thead>\n",
       "    <tr style=\"text-align: right;\">\n",
       "      <th></th>\n",
       "      <th>tweet_id</th>\n",
       "      <th>retweet_count</th>\n",
       "      <th>favorite_count</th>\n",
       "    </tr>\n",
       "  </thead>\n",
       "  <tbody>\n",
       "    <tr>\n",
       "      <th>0</th>\n",
       "      <td>892420643555336193</td>\n",
       "      <td>6975</td>\n",
       "      <td>33709</td>\n",
       "    </tr>\n",
       "    <tr>\n",
       "      <th>1</th>\n",
       "      <td>892177421306343426</td>\n",
       "      <td>5276</td>\n",
       "      <td>29238</td>\n",
       "    </tr>\n",
       "    <tr>\n",
       "      <th>2</th>\n",
       "      <td>891815181378084864</td>\n",
       "      <td>3466</td>\n",
       "      <td>21982</td>\n",
       "    </tr>\n",
       "    <tr>\n",
       "      <th>3</th>\n",
       "      <td>891689557279858688</td>\n",
       "      <td>7197</td>\n",
       "      <td>36812</td>\n",
       "    </tr>\n",
       "    <tr>\n",
       "      <th>4</th>\n",
       "      <td>891327558926688256</td>\n",
       "      <td>7721</td>\n",
       "      <td>35192</td>\n",
       "    </tr>\n",
       "    <tr>\n",
       "      <th>...</th>\n",
       "      <td>...</td>\n",
       "      <td>...</td>\n",
       "      <td>...</td>\n",
       "    </tr>\n",
       "    <tr>\n",
       "      <th>2322</th>\n",
       "      <td>666049248165822465</td>\n",
       "      <td>36</td>\n",
       "      <td>88</td>\n",
       "    </tr>\n",
       "    <tr>\n",
       "      <th>2323</th>\n",
       "      <td>666044226329800704</td>\n",
       "      <td>115</td>\n",
       "      <td>246</td>\n",
       "    </tr>\n",
       "    <tr>\n",
       "      <th>2324</th>\n",
       "      <td>666033412701032449</td>\n",
       "      <td>36</td>\n",
       "      <td>100</td>\n",
       "    </tr>\n",
       "    <tr>\n",
       "      <th>2325</th>\n",
       "      <td>666029285002620928</td>\n",
       "      <td>39</td>\n",
       "      <td>112</td>\n",
       "    </tr>\n",
       "    <tr>\n",
       "      <th>2326</th>\n",
       "      <td>666020888022790149</td>\n",
       "      <td>420</td>\n",
       "      <td>2285</td>\n",
       "    </tr>\n",
       "  </tbody>\n",
       "</table>\n",
       "<p>2327 rows × 3 columns</p>\n",
       "</div>"
      ],
      "text/plain": [
       "                tweet_id  retweet_count  favorite_count\n",
       "0     892420643555336193           6975           33709\n",
       "1     892177421306343426           5276           29238\n",
       "2     891815181378084864           3466           21982\n",
       "3     891689557279858688           7197           36812\n",
       "4     891327558926688256           7721           35192\n",
       "...                  ...            ...             ...\n",
       "2322  666049248165822465             36              88\n",
       "2323  666044226329800704            115             246\n",
       "2324  666033412701032449             36             100\n",
       "2325  666029285002620928             39             112\n",
       "2326  666020888022790149            420            2285\n",
       "\n",
       "[2327 rows x 3 columns]"
      ]
     },
     "execution_count": 21,
     "metadata": {},
     "output_type": "execute_result"
    }
   ],
   "source": [
    "tweet_df"
   ]
  },
  {
   "cell_type": "markdown",
   "id": "17984764",
   "metadata": {},
   "source": [
    "### Tidiness\n",
    "2. Tweet_df should be part of archive_df"
   ]
  },
  {
   "cell_type": "code",
   "execution_count": 22,
   "id": "cd681c11",
   "metadata": {},
   "outputs": [
    {
     "data": {
      "text/html": [
       "<div>\n",
       "<style scoped>\n",
       "    .dataframe tbody tr th:only-of-type {\n",
       "        vertical-align: middle;\n",
       "    }\n",
       "\n",
       "    .dataframe tbody tr th {\n",
       "        vertical-align: top;\n",
       "    }\n",
       "\n",
       "    .dataframe thead th {\n",
       "        text-align: right;\n",
       "    }\n",
       "</style>\n",
       "<table border=\"1\" class=\"dataframe\">\n",
       "  <thead>\n",
       "    <tr style=\"text-align: right;\">\n",
       "      <th></th>\n",
       "      <th>tweet_id</th>\n",
       "      <th>retweet_count</th>\n",
       "      <th>favorite_count</th>\n",
       "    </tr>\n",
       "  </thead>\n",
       "  <tbody>\n",
       "    <tr>\n",
       "      <th>count</th>\n",
       "      <td>2.327000e+03</td>\n",
       "      <td>2327.000000</td>\n",
       "      <td>2327.000000</td>\n",
       "    </tr>\n",
       "    <tr>\n",
       "      <th>mean</th>\n",
       "      <td>7.417930e+17</td>\n",
       "      <td>2460.095832</td>\n",
       "      <td>7030.298668</td>\n",
       "    </tr>\n",
       "    <tr>\n",
       "      <th>std</th>\n",
       "      <td>6.820795e+16</td>\n",
       "      <td>4166.298825</td>\n",
       "      <td>10924.330914</td>\n",
       "    </tr>\n",
       "    <tr>\n",
       "      <th>min</th>\n",
       "      <td>6.660209e+17</td>\n",
       "      <td>1.000000</td>\n",
       "      <td>0.000000</td>\n",
       "    </tr>\n",
       "    <tr>\n",
       "      <th>25%</th>\n",
       "      <td>6.781394e+17</td>\n",
       "      <td>492.500000</td>\n",
       "      <td>1221.000000</td>\n",
       "    </tr>\n",
       "    <tr>\n",
       "      <th>50%</th>\n",
       "      <td>7.178418e+17</td>\n",
       "      <td>1144.000000</td>\n",
       "      <td>3038.000000</td>\n",
       "    </tr>\n",
       "    <tr>\n",
       "      <th>75%</th>\n",
       "      <td>7.986547e+17</td>\n",
       "      <td>2846.000000</td>\n",
       "      <td>8569.000000</td>\n",
       "    </tr>\n",
       "    <tr>\n",
       "      <th>max</th>\n",
       "      <td>8.924206e+17</td>\n",
       "      <td>70378.000000</td>\n",
       "      <td>144334.000000</td>\n",
       "    </tr>\n",
       "  </tbody>\n",
       "</table>\n",
       "</div>"
      ],
      "text/plain": [
       "           tweet_id  retweet_count  favorite_count\n",
       "count  2.327000e+03    2327.000000     2327.000000\n",
       "mean   7.417930e+17    2460.095832     7030.298668\n",
       "std    6.820795e+16    4166.298825    10924.330914\n",
       "min    6.660209e+17       1.000000        0.000000\n",
       "25%    6.781394e+17     492.500000     1221.000000\n",
       "50%    7.178418e+17    1144.000000     3038.000000\n",
       "75%    7.986547e+17    2846.000000     8569.000000\n",
       "max    8.924206e+17   70378.000000   144334.000000"
      ]
     },
     "execution_count": 22,
     "metadata": {},
     "output_type": "execute_result"
    }
   ],
   "source": [
    "tweet_df.describe()"
   ]
  },
  {
   "cell_type": "code",
   "execution_count": 23,
   "id": "57f27564",
   "metadata": {},
   "outputs": [
    {
     "data": {
      "text/plain": [
       "tweet_id          int64\n",
       "retweet_count     int64\n",
       "favorite_count    int64\n",
       "dtype: object"
      ]
     },
     "execution_count": 23,
     "metadata": {},
     "output_type": "execute_result"
    }
   ],
   "source": [
    "tweet_df.dtypes"
   ]
  },
  {
   "cell_type": "markdown",
   "id": "32cc34d4",
   "metadata": {},
   "source": [
    "### Quality \n",
    "5. tweet_id is int"
   ]
  },
  {
   "cell_type": "markdown",
   "id": "4abff982",
   "metadata": {},
   "source": [
    "## Clean"
   ]
  },
  {
   "cell_type": "markdown",
   "id": "e36dfb6f",
   "metadata": {},
   "source": [
    "#### Quality one\n",
    "* incomplete data (no favorite count, no retweet count) "
   ]
  },
  {
   "cell_type": "markdown",
   "id": "fa21e6dc",
   "metadata": {},
   "source": [
    "#### define\n",
    "\n",
    "* Join archive_df, image_prediction_df and tweet_df on 'tweet_id' to create a new variable called complete_df"
   ]
  },
  {
   "cell_type": "markdown",
   "id": "5d86771f",
   "metadata": {},
   "source": [
    "#### code"
   ]
  },
  {
   "cell_type": "code",
   "execution_count": 24,
   "id": "63bbe5b1",
   "metadata": {},
   "outputs": [],
   "source": [
    "archve_df_new = pd.merge(left = archive_df, right = tweet_df, on = 'tweet_id', how = 'inner')\n",
    "complete_df = pd.merge(left = archve_df_new, right = image_prediction_df, on = 'tweet_id', how = 'inner')"
   ]
  },
  {
   "cell_type": "markdown",
   "id": "3295eb77",
   "metadata": {},
   "source": [
    "#### Test"
   ]
  },
  {
   "cell_type": "code",
   "execution_count": 25,
   "id": "0c7c8f4f",
   "metadata": {},
   "outputs": [
    {
     "name": "stdout",
     "output_type": "stream",
     "text": [
      "<class 'pandas.core.frame.DataFrame'>\n",
      "Int64Index: 2057 entries, 0 to 2056\n",
      "Data columns (total 30 columns):\n",
      " #   Column                      Non-Null Count  Dtype  \n",
      "---  ------                      --------------  -----  \n",
      " 0   tweet_id                    2057 non-null   int64  \n",
      " 1   in_reply_to_status_id       23 non-null     float64\n",
      " 2   in_reply_to_user_id         23 non-null     float64\n",
      " 3   timestamp                   2057 non-null   object \n",
      " 4   source                      2057 non-null   object \n",
      " 5   text                        2057 non-null   object \n",
      " 6   retweeted_status_id         71 non-null     float64\n",
      " 7   retweeted_status_user_id    71 non-null     float64\n",
      " 8   retweeted_status_timestamp  71 non-null     object \n",
      " 9   expanded_urls               2057 non-null   object \n",
      " 10  rating_numerator            2057 non-null   int64  \n",
      " 11  rating_denominator          2057 non-null   int64  \n",
      " 12  name                        2057 non-null   object \n",
      " 13  doggo                       2057 non-null   object \n",
      " 14  floofer                     2057 non-null   object \n",
      " 15  pupper                      2057 non-null   object \n",
      " 16  puppo                       2057 non-null   object \n",
      " 17  retweet_count               2057 non-null   int64  \n",
      " 18  favorite_count              2057 non-null   int64  \n",
      " 19  jpg_url                     2057 non-null   object \n",
      " 20  img_num                     2057 non-null   int64  \n",
      " 21  p1                          2057 non-null   object \n",
      " 22  p1_conf                     2057 non-null   float64\n",
      " 23  p1_dog                      2057 non-null   bool   \n",
      " 24  p2                          2057 non-null   object \n",
      " 25  p2_conf                     2057 non-null   float64\n",
      " 26  p2_dog                      2057 non-null   bool   \n",
      " 27  p3                          2057 non-null   object \n",
      " 28  p3_conf                     2057 non-null   float64\n",
      " 29  p3_dog                      2057 non-null   bool   \n",
      "dtypes: bool(3), float64(7), int64(6), object(14)\n",
      "memory usage: 456.0+ KB\n"
     ]
    }
   ],
   "source": [
    "complete_df.info()"
   ]
  },
  {
   "cell_type": "code",
   "execution_count": 26,
   "id": "3fa6f53a",
   "metadata": {},
   "outputs": [],
   "source": [
    "# make a copy of the complete dataframe \n",
    "new_complete_df = complete_df.copy()"
   ]
  },
  {
   "cell_type": "markdown",
   "id": "bd73e3ba",
   "metadata": {},
   "source": [
    "#### Quality two\n",
    "* inconsistent way of representing missing values (NaN and None)"
   ]
  },
  {
   "cell_type": "markdown",
   "id": "f9fb4612",
   "metadata": {},
   "source": [
    "#### define\n",
    "* replace None with np.nan to unify the representation of the missing values "
   ]
  },
  {
   "cell_type": "markdown",
   "id": "c245153a",
   "metadata": {},
   "source": [
    "#### code"
   ]
  },
  {
   "cell_type": "code",
   "execution_count": 27,
   "id": "88ebbb0a",
   "metadata": {},
   "outputs": [],
   "source": [
    "new_complete_df.replace('None', np.nan, inplace = True)"
   ]
  },
  {
   "cell_type": "markdown",
   "id": "ab047113",
   "metadata": {},
   "source": [
    "#### Test"
   ]
  },
  {
   "cell_type": "code",
   "execution_count": 28,
   "id": "88aff425",
   "metadata": {},
   "outputs": [],
   "source": [
    "assert 'None' not in new_complete_df"
   ]
  },
  {
   "cell_type": "code",
   "execution_count": 29,
   "id": "c1440b72",
   "metadata": {},
   "outputs": [
    {
     "name": "stdout",
     "output_type": "stream",
     "text": [
      "<class 'pandas.core.frame.DataFrame'>\n",
      "Int64Index: 2057 entries, 0 to 2056\n",
      "Data columns (total 30 columns):\n",
      " #   Column                      Non-Null Count  Dtype  \n",
      "---  ------                      --------------  -----  \n",
      " 0   tweet_id                    2057 non-null   int64  \n",
      " 1   in_reply_to_status_id       23 non-null     float64\n",
      " 2   in_reply_to_user_id         23 non-null     float64\n",
      " 3   timestamp                   2057 non-null   object \n",
      " 4   source                      2057 non-null   object \n",
      " 5   text                        2057 non-null   object \n",
      " 6   retweeted_status_id         71 non-null     float64\n",
      " 7   retweeted_status_user_id    71 non-null     float64\n",
      " 8   retweeted_status_timestamp  71 non-null     object \n",
      " 9   expanded_urls               2057 non-null   object \n",
      " 10  rating_numerator            2057 non-null   int64  \n",
      " 11  rating_denominator          2057 non-null   int64  \n",
      " 12  name                        1486 non-null   object \n",
      " 13  doggo                       78 non-null     object \n",
      " 14  floofer                     8 non-null      object \n",
      " 15  pupper                      221 non-null    object \n",
      " 16  puppo                       24 non-null     object \n",
      " 17  retweet_count               2057 non-null   int64  \n",
      " 18  favorite_count              2057 non-null   int64  \n",
      " 19  jpg_url                     2057 non-null   object \n",
      " 20  img_num                     2057 non-null   int64  \n",
      " 21  p1                          2057 non-null   object \n",
      " 22  p1_conf                     2057 non-null   float64\n",
      " 23  p1_dog                      2057 non-null   bool   \n",
      " 24  p2                          2057 non-null   object \n",
      " 25  p2_conf                     2057 non-null   float64\n",
      " 26  p2_dog                      2057 non-null   bool   \n",
      " 27  p3                          2057 non-null   object \n",
      " 28  p3_conf                     2057 non-null   float64\n",
      " 29  p3_dog                      2057 non-null   bool   \n",
      "dtypes: bool(3), float64(7), int64(6), object(14)\n",
      "memory usage: 456.0+ KB\n"
     ]
    }
   ],
   "source": [
    "new_complete_df.info()"
   ]
  },
  {
   "cell_type": "markdown",
   "id": "0a858fa8",
   "metadata": {},
   "source": [
    "#### Quality three\n",
    "* Some columns: `in_reply_to_status_id`, `in_reply_to_user_id`, `retweeted_status_id`, `retweeted_status_user_id`, and `retweeted_status_timestamp`, `img_num`, and `expanded_urls` contains little observation"
   ]
  },
  {
   "cell_type": "markdown",
   "id": "a7941c85",
   "metadata": {},
   "source": [
    "#### define \n",
    "* drop columns with little or no relevant information. The columns are: [\"in_reply_to_status_id\", \"in_reply_to_user_id\", \n",
    "\"retweeted_status_id\", \"retweeted_status_user_id\", \"retweeted_status_timestamp\", \"img_num\", \"expanded_urls\"]"
   ]
  },
  {
   "cell_type": "markdown",
   "id": "fcf11343",
   "metadata": {},
   "source": [
    "#### Code"
   ]
  },
  {
   "cell_type": "code",
   "execution_count": 30,
   "id": "f296fe14",
   "metadata": {},
   "outputs": [],
   "source": [
    "col_names = [\"in_reply_to_status_id\", \"in_reply_to_user_id\", \"retweeted_status_id\", \"retweeted_status_user_id\", \"retweeted_status_timestamp\", \"img_num\", \"expanded_urls\"]\n",
    "new_complete_df.drop(labels = col_names, axis = 1, inplace = True)"
   ]
  },
  {
   "cell_type": "markdown",
   "id": "d1501dec",
   "metadata": {},
   "source": [
    "#### Test"
   ]
  },
  {
   "cell_type": "code",
   "execution_count": 31,
   "id": "7779b184",
   "metadata": {},
   "outputs": [],
   "source": [
    "for col_name in col_names:\n",
    "    assert col_name not in new_complete_df.columns"
   ]
  },
  {
   "cell_type": "code",
   "execution_count": 32,
   "id": "064025f8",
   "metadata": {},
   "outputs": [
    {
     "name": "stdout",
     "output_type": "stream",
     "text": [
      "<class 'pandas.core.frame.DataFrame'>\n",
      "Int64Index: 2057 entries, 0 to 2056\n",
      "Data columns (total 23 columns):\n",
      " #   Column              Non-Null Count  Dtype  \n",
      "---  ------              --------------  -----  \n",
      " 0   tweet_id            2057 non-null   int64  \n",
      " 1   timestamp           2057 non-null   object \n",
      " 2   source              2057 non-null   object \n",
      " 3   text                2057 non-null   object \n",
      " 4   rating_numerator    2057 non-null   int64  \n",
      " 5   rating_denominator  2057 non-null   int64  \n",
      " 6   name                1486 non-null   object \n",
      " 7   doggo               78 non-null     object \n",
      " 8   floofer             8 non-null      object \n",
      " 9   pupper              221 non-null    object \n",
      " 10  puppo               24 non-null     object \n",
      " 11  retweet_count       2057 non-null   int64  \n",
      " 12  favorite_count      2057 non-null   int64  \n",
      " 13  jpg_url             2057 non-null   object \n",
      " 14  p1                  2057 non-null   object \n",
      " 15  p1_conf             2057 non-null   float64\n",
      " 16  p1_dog              2057 non-null   bool   \n",
      " 17  p2                  2057 non-null   object \n",
      " 18  p2_conf             2057 non-null   float64\n",
      " 19  p2_dog              2057 non-null   bool   \n",
      " 20  p3                  2057 non-null   object \n",
      " 21  p3_conf             2057 non-null   float64\n",
      " 22  p3_dog              2057 non-null   bool   \n",
      "dtypes: bool(3), float64(3), int64(5), object(12)\n",
      "memory usage: 343.5+ KB\n"
     ]
    }
   ],
   "source": [
    "new_complete_df.info()"
   ]
  },
  {
   "cell_type": "markdown",
   "id": "1558f850",
   "metadata": {},
   "source": [
    "#### Quality four\n",
    "* timestamp datatype is object and tweet_id is int"
   ]
  },
  {
   "cell_type": "markdown",
   "id": "3211d43e",
   "metadata": {},
   "source": [
    "#### definition \n",
    "* strip off the last '+0000' from timestamp, convert its datatype to datetime datetype using pd.to_datetime() function and rename it to tweet_date \n",
    "* convert tweet_id datatype to string\n"
   ]
  },
  {
   "cell_type": "markdown",
   "id": "fde7f610",
   "metadata": {},
   "source": [
    "#### code"
   ]
  },
  {
   "cell_type": "code",
   "execution_count": 33,
   "id": "abb171fa",
   "metadata": {},
   "outputs": [],
   "source": [
    "# strip off +0000 from timestamp \n",
    "\n",
    "new_complete_df.timestamp = new_complete_df.timestamp.str.split('+', expand = True)[0].str.strip()\n",
    "\n",
    "# convert timestamp to datetime datatype\n",
    "new_complete_df.timestamp = pd.to_datetime(new_complete_df['timestamp'])\n",
    "\n",
    "# rename timestamp as tweet_date\n",
    "\n",
    "new_complete_df.rename(columns = {'timestamp': 'tweet_date'}, inplace = True)\n"
   ]
  },
  {
   "cell_type": "markdown",
   "id": "d7d96a9d",
   "metadata": {},
   "source": [
    "#### Test"
   ]
  },
  {
   "cell_type": "code",
   "execution_count": 34,
   "id": "d3d0fc8f",
   "metadata": {},
   "outputs": [
    {
     "name": "stdout",
     "output_type": "stream",
     "text": [
      "<class 'pandas.core.frame.DataFrame'>\n",
      "Int64Index: 2057 entries, 0 to 2056\n",
      "Data columns (total 23 columns):\n",
      " #   Column              Non-Null Count  Dtype         \n",
      "---  ------              --------------  -----         \n",
      " 0   tweet_id            2057 non-null   int64         \n",
      " 1   tweet_date          2057 non-null   datetime64[ns]\n",
      " 2   source              2057 non-null   object        \n",
      " 3   text                2057 non-null   object        \n",
      " 4   rating_numerator    2057 non-null   int64         \n",
      " 5   rating_denominator  2057 non-null   int64         \n",
      " 6   name                1486 non-null   object        \n",
      " 7   doggo               78 non-null     object        \n",
      " 8   floofer             8 non-null      object        \n",
      " 9   pupper              221 non-null    object        \n",
      " 10  puppo               24 non-null     object        \n",
      " 11  retweet_count       2057 non-null   int64         \n",
      " 12  favorite_count      2057 non-null   int64         \n",
      " 13  jpg_url             2057 non-null   object        \n",
      " 14  p1                  2057 non-null   object        \n",
      " 15  p1_conf             2057 non-null   float64       \n",
      " 16  p1_dog              2057 non-null   bool          \n",
      " 17  p2                  2057 non-null   object        \n",
      " 18  p2_conf             2057 non-null   float64       \n",
      " 19  p2_dog              2057 non-null   bool          \n",
      " 20  p3                  2057 non-null   object        \n",
      " 21  p3_conf             2057 non-null   float64       \n",
      " 22  p3_dog              2057 non-null   bool          \n",
      "dtypes: bool(3), datetime64[ns](1), float64(3), int64(5), object(11)\n",
      "memory usage: 343.5+ KB\n"
     ]
    }
   ],
   "source": [
    "new_complete_df.info()"
   ]
  },
  {
   "cell_type": "markdown",
   "id": "3821ddfb",
   "metadata": {},
   "source": [
    "### Quality 5 & 6\n",
    "* erroneous rating score for most of the rating_denominator != 10\n",
    "* erroneous rating score for most of the rating_numerator > 15 and the rating numerator == 0 "
   ]
  },
  {
   "cell_type": "markdown",
   "id": "60275533",
   "metadata": {},
   "source": [
    "#### define\n",
    "\n",
    "* combine the tweet_id of rating_numerator_with_issue and rating_denominator_with_issue\n",
    "* set the index of new_complete_df to tweet_id\n",
    "* drop the tweet_id with issue\n",
    "* then reset the index\n",
    "* calculate rating = rating_numerator/rating_denominator\n",
    "* drop rating_numerator and rating_denominator"
   ]
  },
  {
   "cell_type": "markdown",
   "id": "28568ee1",
   "metadata": {},
   "source": [
    "#### code"
   ]
  },
  {
   "cell_type": "code",
   "execution_count": 35,
   "id": "8ec64607",
   "metadata": {},
   "outputs": [],
   "source": [
    "# extract denominator order than 10 for visual inspection\n",
    "rating_denominator_df = new_complete_df[new_complete_df.rating_denominator != 10][['tweet_id', 'text', 'rating_denominator']]\n",
    "\n",
    "# Extract rating numerator > 15 and rating_numerator == 0 for visual inspection\n",
    "rating_numerator_df = new_complete_df[(new_complete_df['rating_numerator'] > 15) | (new_complete_df['rating_numerator'] == 0)][['tweet_id', 'text', 'rating_numerator']]\n",
    "\n",
    "# combine the tweet_id of prob_rating_denominator and prob_rating_numerator\n",
    "tweet_id_with_rating_issue = pd.Series(list(rating_denominator_df.tweet_id) + list(rating_numerator_df.tweet_id)).unique()\n",
    "\n",
    "# set the index of new_complete_df to tweet_id\n",
    "new_complete_df.set_index('tweet_id', inplace = True)\n",
    "\n",
    "# drop the tweet_id with issue\n",
    "new_complete_df.drop(labels = tweet_id_with_rating_issue, axis = 0, inplace = True)\n",
    "\n",
    "# reset the index\n",
    "new_complete_df = new_complete_df.reset_index()\n",
    "\n",
    "# calculate rating = rating_numerator/rating_denominator\n",
    "new_complete_df['dog_rating'] = new_complete_df['rating_numerator']/new_complete_df['rating_denominator']\n",
    "\n",
    "# drop rating_numerator and rating_denominator\n",
    "new_complete_df.drop(columns = ['rating_numerator', 'rating_denominator'], axis = 1, inplace = True)"
   ]
  },
  {
   "cell_type": "markdown",
   "id": "5ecb2ff1",
   "metadata": {},
   "source": [
    "#### Test"
   ]
  },
  {
   "cell_type": "code",
   "execution_count": 36,
   "id": "7f511441",
   "metadata": {},
   "outputs": [],
   "source": [
    "for tweet_id in tweet_id_with_rating_issue:\n",
    "    assert tweet_id not in new_complete_df.tweet_id"
   ]
  },
  {
   "cell_type": "code",
   "execution_count": 37,
   "id": "7af9fb92",
   "metadata": {},
   "outputs": [
    {
     "name": "stdout",
     "output_type": "stream",
     "text": [
      "<class 'pandas.core.frame.DataFrame'>\n",
      "RangeIndex: 2032 entries, 0 to 2031\n",
      "Data columns (total 22 columns):\n",
      " #   Column          Non-Null Count  Dtype         \n",
      "---  ------          --------------  -----         \n",
      " 0   tweet_id        2032 non-null   int64         \n",
      " 1   tweet_date      2032 non-null   datetime64[ns]\n",
      " 2   source          2032 non-null   object        \n",
      " 3   text            2032 non-null   object        \n",
      " 4   name            1477 non-null   object        \n",
      " 5   doggo           78 non-null     object        \n",
      " 6   floofer         8 non-null      object        \n",
      " 7   pupper          220 non-null    object        \n",
      " 8   puppo           24 non-null     object        \n",
      " 9   retweet_count   2032 non-null   int64         \n",
      " 10  favorite_count  2032 non-null   int64         \n",
      " 11  jpg_url         2032 non-null   object        \n",
      " 12  p1              2032 non-null   object        \n",
      " 13  p1_conf         2032 non-null   float64       \n",
      " 14  p1_dog          2032 non-null   bool          \n",
      " 15  p2              2032 non-null   object        \n",
      " 16  p2_conf         2032 non-null   float64       \n",
      " 17  p2_dog          2032 non-null   bool          \n",
      " 18  p3              2032 non-null   object        \n",
      " 19  p3_conf         2032 non-null   float64       \n",
      " 20  p3_dog          2032 non-null   bool          \n",
      " 21  dog_rating      2032 non-null   float64       \n",
      "dtypes: bool(3), datetime64[ns](1), float64(4), int64(3), object(11)\n",
      "memory usage: 307.7+ KB\n"
     ]
    }
   ],
   "source": [
    "new_complete_df.info()"
   ]
  },
  {
   "cell_type": "markdown",
   "id": "1683ea5a",
   "metadata": {},
   "source": [
    "#### Quality 7\n",
    "* Source written as link instead of exact name of the source"
   ]
  },
  {
   "cell_type": "markdown",
   "id": "22efba65",
   "metadata": {},
   "source": [
    "#### define\n",
    "* loop through souce column, replace each of the links with their corresponding value:\n",
    "    * '<a href=\"http://twitter.com/download/iphone\" rel=\"nofollow\">Twitter for iPhone</a>' = 'iphone'\n",
    "       '<a href=\"http://twitter.com\" rel=\"nofollow\">Twitter Web Client</a>' = 'twitter_web'\n",
    "       '<a href=\"http://vine.co\" rel=\"nofollow\">Vine - Make a Scene</a>' = 'vine'\n",
    "       '<a href=\"https://about.twitter.com/products/tweetdeck\" rel=\"nofollow\">TweetDeck</a>' = 'tweetdeck'"
   ]
  },
  {
   "cell_type": "markdown",
   "id": "09b2b08f",
   "metadata": {},
   "source": [
    "#### code"
   ]
  },
  {
   "cell_type": "code",
   "execution_count": 38,
   "id": "0d2ec11a",
   "metadata": {},
   "outputs": [],
   "source": [
    "source_list = []\n",
    "for source in new_complete_df.source:\n",
    "    if source == '<a href=\"http://twitter.com/download/iphone\" rel=\"nofollow\">Twitter for iPhone</a>':\n",
    "        source_name = 'iphone'\n",
    "    elif source == '<a href=\"http://twitter.com\" rel=\"nofollow\">Twitter Web Client</a>':\n",
    "        source_name = 'twitter_web'\n",
    "    elif source == '<a href=\"http://vine.co\" rel=\"nofollow\">Vine - Make a Scene</a>':\n",
    "        source_name ='vine'\n",
    "    elif source == '<a href=\"https://about.twitter.com/products/tweetdeck\" rel=\"nofollow\">TweetDeck</a>':\n",
    "        source_name = 'tweetdeck'\n",
    "    else:\n",
    "        source_name = np.nan\n",
    "    source_list.append(source_name)\n",
    "new_complete_df.source = source_list"
   ]
  },
  {
   "cell_type": "markdown",
   "id": "9f7f1e31",
   "metadata": {},
   "source": [
    "#### test"
   ]
  },
  {
   "cell_type": "code",
   "execution_count": 39,
   "id": "ae0a7c2b",
   "metadata": {},
   "outputs": [
    {
     "data": {
      "text/plain": [
       "iphone         1993\n",
       "twitter_web      30\n",
       "tweetdeck         9\n",
       "Name: source, dtype: int64"
      ]
     },
     "execution_count": 39,
     "metadata": {},
     "output_type": "execute_result"
    }
   ],
   "source": [
    "new_complete_df.source.value_counts()"
   ]
  },
  {
   "cell_type": "markdown",
   "id": "36b5d120",
   "metadata": {},
   "source": [
    "#### Quality 8\n",
    "8. wrong dog name ('a', 'such', 'quite' etc)"
   ]
  },
  {
   "cell_type": "markdown",
   "id": "b0b91d50",
   "metadata": {},
   "source": [
    "#### define\n",
    "* replace all non-name in the name columns with np.nan"
   ]
  },
  {
   "cell_type": "markdown",
   "id": "d8afce1d",
   "metadata": {},
   "source": [
    "#### code"
   ]
  },
  {
   "cell_type": "code",
   "execution_count": 40,
   "id": "f7336d73",
   "metadata": {},
   "outputs": [],
   "source": [
    "mis_named = ['such', 'a', 'quite', 'not', 'one', 'incredibly', 'mad', 'an',\n",
    "       'very', 'just', 'my', 'his', 'actually', 'getting', 'this',\n",
    "       'unacceptable', 'all', 'old', 'infuriating', 'the', 'by',\n",
    "       'officially', 'life', 'light', 'space']\n",
    "for i in range(len(new_complete_df)):\n",
    "    if new_complete_df.loc[i, 'name'] in mis_named:\n",
    "        new_complete_df.loc[i, 'name'] = np.nan\n",
    "    else:\n",
    "        new_complete_df.loc[i, 'name'] = new_complete_df.loc[i, 'name']"
   ]
  },
  {
   "cell_type": "markdown",
   "id": "54708eb9",
   "metadata": {},
   "source": [
    "#### test"
   ]
  },
  {
   "cell_type": "code",
   "execution_count": 41,
   "id": "febb0bed",
   "metadata": {},
   "outputs": [],
   "source": [
    "names = new_complete_df.name.value_counts()\n",
    "for name in names.index:\n",
    "    assert not name.islower()"
   ]
  },
  {
   "cell_type": "markdown",
   "id": "ed0eede1",
   "metadata": {},
   "source": [
    "#### Tidiness 1\n",
    "* dog age (doggo, fluffer, pupper, and puppo) is in four columns instead of one"
   ]
  },
  {
   "cell_type": "markdown",
   "id": "6742387a",
   "metadata": {},
   "source": [
    "#### define\n",
    "* use the values of dog age (doggo, fluffer, pupper, and puppo) to create another column, rename it to dog_name and drop (doggo, fluffer, pupper, and puppo) columns"
   ]
  },
  {
   "cell_type": "markdown",
   "id": "c7718a1f",
   "metadata": {},
   "source": [
    "#### code"
   ]
  },
  {
   "cell_type": "code",
   "execution_count": 42,
   "id": "a79291e9",
   "metadata": {},
   "outputs": [],
   "source": [
    "def dog_ages(): \n",
    "    \"\"\"A function that creates a new column, dog_age, \n",
    "    from the values of ('doggo', 'floofer', 'pupper', 'puppo'), \n",
    "    then insert the result in the position 8 in new_complete_df and lastly drop\n",
    "    ('doggo', 'floofer', 'pupper', 'puppo') columns\"\"\"\n",
    "    \n",
    "    dog_age = []\n",
    "    for row in new_complete_df.itertuples():\n",
    "        age_value = np.nan\n",
    "        if row.doggo == 'doggo':\n",
    "            age_value = 'doggo'\n",
    "        elif row.floofer == 'floofer':\n",
    "            age_value = 'floofer'\n",
    "        elif row.pupper == 'pupper':\n",
    "            age_value = 'pupper'\n",
    "        elif row.puppo == 'puppo':\n",
    "            age_value = 'puppo'\n",
    "        elif (row.doggo == np.nan) and (row.floofer == np.nan) and (row.pupper == np.nan) and (row.puppo == np.nan):\n",
    "            age_value = np.nan\n",
    "        dog_age.append(age_value)\n",
    "    new_complete_df.insert(8, 'dog_age', dog_age)\n",
    "    return new_complete_df.drop(columns = ['doggo', 'floofer', 'pupper', 'puppo'], axis = 1, inplace = True) \n",
    "dog_ages()"
   ]
  },
  {
   "cell_type": "markdown",
   "id": "6910fe7f",
   "metadata": {},
   "source": [
    "#### Test"
   ]
  },
  {
   "cell_type": "code",
   "execution_count": 43,
   "id": "1f596714",
   "metadata": {},
   "outputs": [],
   "source": [
    "dropped_columns = ['doggo', 'floofer', 'pupper', 'puppo']\n",
    "for dropped_column in dropped_columns:\n",
    "    assert dropped_column not in new_complete_df.columns"
   ]
  },
  {
   "cell_type": "code",
   "execution_count": 44,
   "id": "9f4c368b",
   "metadata": {},
   "outputs": [
    {
     "name": "stdout",
     "output_type": "stream",
     "text": [
      "<class 'pandas.core.frame.DataFrame'>\n",
      "RangeIndex: 2032 entries, 0 to 2031\n",
      "Data columns (total 19 columns):\n",
      " #   Column          Non-Null Count  Dtype         \n",
      "---  ------          --------------  -----         \n",
      " 0   tweet_id        2032 non-null   int64         \n",
      " 1   tweet_date      2032 non-null   datetime64[ns]\n",
      " 2   source          2032 non-null   object        \n",
      " 3   text            2032 non-null   object        \n",
      " 4   name            1380 non-null   object        \n",
      " 5   dog_age         317 non-null    object        \n",
      " 6   retweet_count   2032 non-null   int64         \n",
      " 7   favorite_count  2032 non-null   int64         \n",
      " 8   jpg_url         2032 non-null   object        \n",
      " 9   p1              2032 non-null   object        \n",
      " 10  p1_conf         2032 non-null   float64       \n",
      " 11  p1_dog          2032 non-null   bool          \n",
      " 12  p2              2032 non-null   object        \n",
      " 13  p2_conf         2032 non-null   float64       \n",
      " 14  p2_dog          2032 non-null   bool          \n",
      " 15  p3              2032 non-null   object        \n",
      " 16  p3_conf         2032 non-null   float64       \n",
      " 17  p3_dog          2032 non-null   bool          \n",
      " 18  dog_rating      2032 non-null   float64       \n",
      "dtypes: bool(3), datetime64[ns](1), float64(4), int64(3), object(8)\n",
      "memory usage: 260.1+ KB\n"
     ]
    }
   ],
   "source": [
    "new_complete_df.info()"
   ]
  },
  {
   "cell_type": "markdown",
   "id": "aa9f56c7",
   "metadata": {},
   "source": [
    "#### Tidiness 2\n",
    "* Multiple beeds name (p1, p2, and p3) predicted for a dog "
   ]
  },
  {
   "cell_type": "markdown",
   "id": "23811823",
   "metadata": {},
   "source": [
    "#### define\n",
    "* create a new column called dog_beed. Loop through the rows in the new_complete_df dataframe,\n",
    "if the prediction is True, pick the beed predicted with the highest confidence. Else label dog_beed as np.nan"
   ]
  },
  {
   "cell_type": "code",
   "execution_count": 45,
   "id": "a215cc1c",
   "metadata": {},
   "outputs": [
    {
     "data": {
      "text/html": [
       "<div>\n",
       "<style scoped>\n",
       "    .dataframe tbody tr th:only-of-type {\n",
       "        vertical-align: middle;\n",
       "    }\n",
       "\n",
       "    .dataframe tbody tr th {\n",
       "        vertical-align: top;\n",
       "    }\n",
       "\n",
       "    .dataframe thead th {\n",
       "        text-align: right;\n",
       "    }\n",
       "</style>\n",
       "<table border=\"1\" class=\"dataframe\">\n",
       "  <thead>\n",
       "    <tr style=\"text-align: right;\">\n",
       "      <th></th>\n",
       "      <th>tweet_id</th>\n",
       "      <th>in_reply_to_status_id</th>\n",
       "      <th>in_reply_to_user_id</th>\n",
       "      <th>timestamp</th>\n",
       "      <th>source</th>\n",
       "      <th>text</th>\n",
       "      <th>retweeted_status_id</th>\n",
       "      <th>retweeted_status_user_id</th>\n",
       "      <th>retweeted_status_timestamp</th>\n",
       "      <th>expanded_urls</th>\n",
       "      <th>...</th>\n",
       "      <th>img_num</th>\n",
       "      <th>p1</th>\n",
       "      <th>p1_conf</th>\n",
       "      <th>p1_dog</th>\n",
       "      <th>p2</th>\n",
       "      <th>p2_conf</th>\n",
       "      <th>p2_dog</th>\n",
       "      <th>p3</th>\n",
       "      <th>p3_conf</th>\n",
       "      <th>p3_dog</th>\n",
       "    </tr>\n",
       "  </thead>\n",
       "  <tbody>\n",
       "    <tr>\n",
       "      <th>34</th>\n",
       "      <td>884925521741709313</td>\n",
       "      <td>NaN</td>\n",
       "      <td>NaN</td>\n",
       "      <td>2017-07-12 00:01:00 +0000</td>\n",
       "      <td>&lt;a href=\"http://twitter.com/download/iphone\" r...</td>\n",
       "      <td>This is Earl. He found a hat. Nervous about wh...</td>\n",
       "      <td>NaN</td>\n",
       "      <td>NaN</td>\n",
       "      <td>NaN</td>\n",
       "      <td>https://twitter.com/dog_rates/status/884925521...</td>\n",
       "      <td>...</td>\n",
       "      <td>1</td>\n",
       "      <td>Italian_greyhound</td>\n",
       "      <td>0.259916</td>\n",
       "      <td>True</td>\n",
       "      <td>American_Staffordshire_terrier</td>\n",
       "      <td>0.198451</td>\n",
       "      <td>True</td>\n",
       "      <td>Staffordshire_bullterrier</td>\n",
       "      <td>0.127725</td>\n",
       "      <td>True</td>\n",
       "    </tr>\n",
       "    <tr>\n",
       "      <th>35</th>\n",
       "      <td>884876753390489601</td>\n",
       "      <td>NaN</td>\n",
       "      <td>NaN</td>\n",
       "      <td>2017-07-11 20:47:12 +0000</td>\n",
       "      <td>&lt;a href=\"http://twitter.com/download/iphone\" r...</td>\n",
       "      <td>This is Lola. It's her first time outside. Mus...</td>\n",
       "      <td>NaN</td>\n",
       "      <td>NaN</td>\n",
       "      <td>NaN</td>\n",
       "      <td>https://twitter.com/dog_rates/status/884876753...</td>\n",
       "      <td>...</td>\n",
       "      <td>1</td>\n",
       "      <td>chow</td>\n",
       "      <td>0.822103</td>\n",
       "      <td>True</td>\n",
       "      <td>Norwich_terrier</td>\n",
       "      <td>0.106075</td>\n",
       "      <td>True</td>\n",
       "      <td>Norfolk_terrier</td>\n",
       "      <td>0.037348</td>\n",
       "      <td>True</td>\n",
       "    </tr>\n",
       "    <tr>\n",
       "      <th>36</th>\n",
       "      <td>884562892145688576</td>\n",
       "      <td>NaN</td>\n",
       "      <td>NaN</td>\n",
       "      <td>2017-07-11 00:00:02 +0000</td>\n",
       "      <td>&lt;a href=\"http://twitter.com/download/iphone\" r...</td>\n",
       "      <td>This is Kevin. He's just so happy. 13/10 what ...</td>\n",
       "      <td>NaN</td>\n",
       "      <td>NaN</td>\n",
       "      <td>NaN</td>\n",
       "      <td>https://twitter.com/dog_rates/status/884562892...</td>\n",
       "      <td>...</td>\n",
       "      <td>1</td>\n",
       "      <td>pug</td>\n",
       "      <td>0.546406</td>\n",
       "      <td>True</td>\n",
       "      <td>French_bulldog</td>\n",
       "      <td>0.404291</td>\n",
       "      <td>True</td>\n",
       "      <td>Brabancon_griffon</td>\n",
       "      <td>0.044002</td>\n",
       "      <td>True</td>\n",
       "    </tr>\n",
       "    <tr>\n",
       "      <th>37</th>\n",
       "      <td>884441805382717440</td>\n",
       "      <td>NaN</td>\n",
       "      <td>NaN</td>\n",
       "      <td>2017-07-10 15:58:53 +0000</td>\n",
       "      <td>&lt;a href=\"http://twitter.com/download/iphone\" r...</td>\n",
       "      <td>I present to you, Pup in Hat. Pup in Hat is gr...</td>\n",
       "      <td>NaN</td>\n",
       "      <td>NaN</td>\n",
       "      <td>NaN</td>\n",
       "      <td>https://twitter.com/dog_rates/status/884441805...</td>\n",
       "      <td>...</td>\n",
       "      <td>1</td>\n",
       "      <td>Pembroke</td>\n",
       "      <td>0.993225</td>\n",
       "      <td>True</td>\n",
       "      <td>Cardigan</td>\n",
       "      <td>0.003216</td>\n",
       "      <td>True</td>\n",
       "      <td>Chihuahua</td>\n",
       "      <td>0.002081</td>\n",
       "      <td>True</td>\n",
       "    </tr>\n",
       "  </tbody>\n",
       "</table>\n",
       "<p>4 rows × 30 columns</p>\n",
       "</div>"
      ],
      "text/plain": [
       "              tweet_id  in_reply_to_status_id  in_reply_to_user_id  \\\n",
       "34  884925521741709313                    NaN                  NaN   \n",
       "35  884876753390489601                    NaN                  NaN   \n",
       "36  884562892145688576                    NaN                  NaN   \n",
       "37  884441805382717440                    NaN                  NaN   \n",
       "\n",
       "                    timestamp  \\\n",
       "34  2017-07-12 00:01:00 +0000   \n",
       "35  2017-07-11 20:47:12 +0000   \n",
       "36  2017-07-11 00:00:02 +0000   \n",
       "37  2017-07-10 15:58:53 +0000   \n",
       "\n",
       "                                               source  \\\n",
       "34  <a href=\"http://twitter.com/download/iphone\" r...   \n",
       "35  <a href=\"http://twitter.com/download/iphone\" r...   \n",
       "36  <a href=\"http://twitter.com/download/iphone\" r...   \n",
       "37  <a href=\"http://twitter.com/download/iphone\" r...   \n",
       "\n",
       "                                                 text  retweeted_status_id  \\\n",
       "34  This is Earl. He found a hat. Nervous about wh...                  NaN   \n",
       "35  This is Lola. It's her first time outside. Mus...                  NaN   \n",
       "36  This is Kevin. He's just so happy. 13/10 what ...                  NaN   \n",
       "37  I present to you, Pup in Hat. Pup in Hat is gr...                  NaN   \n",
       "\n",
       "    retweeted_status_user_id retweeted_status_timestamp  \\\n",
       "34                       NaN                        NaN   \n",
       "35                       NaN                        NaN   \n",
       "36                       NaN                        NaN   \n",
       "37                       NaN                        NaN   \n",
       "\n",
       "                                        expanded_urls  ...  img_num  \\\n",
       "34  https://twitter.com/dog_rates/status/884925521...  ...        1   \n",
       "35  https://twitter.com/dog_rates/status/884876753...  ...        1   \n",
       "36  https://twitter.com/dog_rates/status/884562892...  ...        1   \n",
       "37  https://twitter.com/dog_rates/status/884441805...  ...        1   \n",
       "\n",
       "                   p1   p1_conf p1_dog                              p2  \\\n",
       "34  Italian_greyhound  0.259916   True  American_Staffordshire_terrier   \n",
       "35               chow  0.822103   True                 Norwich_terrier   \n",
       "36                pug  0.546406   True                  French_bulldog   \n",
       "37           Pembroke  0.993225   True                        Cardigan   \n",
       "\n",
       "     p2_conf p2_dog                         p3   p3_conf p3_dog  \n",
       "34  0.198451   True  Staffordshire_bullterrier  0.127725   True  \n",
       "35  0.106075   True            Norfolk_terrier  0.037348   True  \n",
       "36  0.404291   True          Brabancon_griffon  0.044002   True  \n",
       "37  0.003216   True                  Chihuahua  0.002081   True  \n",
       "\n",
       "[4 rows x 30 columns]"
      ]
     },
     "execution_count": 45,
     "metadata": {},
     "output_type": "execute_result"
    }
   ],
   "source": [
    "complete_df.iloc[34:38, :]"
   ]
  },
  {
   "cell_type": "code",
   "execution_count": 46,
   "id": "b74714d6",
   "metadata": {
    "scrolled": false
   },
   "outputs": [
    {
     "data": {
      "text/html": [
       "<div>\n",
       "<style scoped>\n",
       "    .dataframe tbody tr th:only-of-type {\n",
       "        vertical-align: middle;\n",
       "    }\n",
       "\n",
       "    .dataframe tbody tr th {\n",
       "        vertical-align: top;\n",
       "    }\n",
       "\n",
       "    .dataframe thead th {\n",
       "        text-align: right;\n",
       "    }\n",
       "</style>\n",
       "<table border=\"1\" class=\"dataframe\">\n",
       "  <thead>\n",
       "    <tr style=\"text-align: right;\">\n",
       "      <th></th>\n",
       "      <th>tweet_id</th>\n",
       "      <th>tweet_date</th>\n",
       "      <th>source</th>\n",
       "      <th>text</th>\n",
       "      <th>name</th>\n",
       "      <th>dog_age</th>\n",
       "      <th>retweet_count</th>\n",
       "      <th>favorite_count</th>\n",
       "      <th>jpg_url</th>\n",
       "      <th>p1</th>\n",
       "      <th>p1_conf</th>\n",
       "      <th>p1_dog</th>\n",
       "      <th>p2</th>\n",
       "      <th>p2_conf</th>\n",
       "      <th>p2_dog</th>\n",
       "      <th>p3</th>\n",
       "      <th>p3_conf</th>\n",
       "      <th>p3_dog</th>\n",
       "      <th>dog_rating</th>\n",
       "    </tr>\n",
       "  </thead>\n",
       "  <tbody>\n",
       "    <tr>\n",
       "      <th>34</th>\n",
       "      <td>884925521741709313</td>\n",
       "      <td>2017-07-12 00:01:00</td>\n",
       "      <td>iphone</td>\n",
       "      <td>This is Earl. He found a hat. Nervous about wh...</td>\n",
       "      <td>Earl</td>\n",
       "      <td>NaN</td>\n",
       "      <td>14950</td>\n",
       "      <td>67065</td>\n",
       "      <td>https://pbs.twimg.com/media/DEfjEaNXkAAtPlj.jpg</td>\n",
       "      <td>Italian_greyhound</td>\n",
       "      <td>0.259916</td>\n",
       "      <td>True</td>\n",
       "      <td>American_Staffordshire_terrier</td>\n",
       "      <td>0.198451</td>\n",
       "      <td>True</td>\n",
       "      <td>Staffordshire_bullterrier</td>\n",
       "      <td>0.127725</td>\n",
       "      <td>True</td>\n",
       "      <td>1.2</td>\n",
       "    </tr>\n",
       "    <tr>\n",
       "      <th>35</th>\n",
       "      <td>884876753390489601</td>\n",
       "      <td>2017-07-11 20:47:12</td>\n",
       "      <td>iphone</td>\n",
       "      <td>This is Lola. It's her first time outside. Mus...</td>\n",
       "      <td>Lola</td>\n",
       "      <td>NaN</td>\n",
       "      <td>4641</td>\n",
       "      <td>24311</td>\n",
       "      <td>https://pbs.twimg.com/media/DEe2tZXXkAAwyX3.jpg</td>\n",
       "      <td>chow</td>\n",
       "      <td>0.822103</td>\n",
       "      <td>True</td>\n",
       "      <td>Norwich_terrier</td>\n",
       "      <td>0.106075</td>\n",
       "      <td>True</td>\n",
       "      <td>Norfolk_terrier</td>\n",
       "      <td>0.037348</td>\n",
       "      <td>True</td>\n",
       "      <td>1.3</td>\n",
       "    </tr>\n",
       "    <tr>\n",
       "      <th>36</th>\n",
       "      <td>884562892145688576</td>\n",
       "      <td>2017-07-11 00:00:02</td>\n",
       "      <td>iphone</td>\n",
       "      <td>This is Kevin. He's just so happy. 13/10 what ...</td>\n",
       "      <td>Kevin</td>\n",
       "      <td>NaN</td>\n",
       "      <td>3896</td>\n",
       "      <td>21257</td>\n",
       "      <td>https://pbs.twimg.com/media/DEaZQkfXUAEC7qB.jpg</td>\n",
       "      <td>pug</td>\n",
       "      <td>0.546406</td>\n",
       "      <td>True</td>\n",
       "      <td>French_bulldog</td>\n",
       "      <td>0.404291</td>\n",
       "      <td>True</td>\n",
       "      <td>Brabancon_griffon</td>\n",
       "      <td>0.044002</td>\n",
       "      <td>True</td>\n",
       "      <td>1.3</td>\n",
       "    </tr>\n",
       "    <tr>\n",
       "      <th>37</th>\n",
       "      <td>884441805382717440</td>\n",
       "      <td>2017-07-10 15:58:53</td>\n",
       "      <td>iphone</td>\n",
       "      <td>I present to you, Pup in Hat. Pup in Hat is gr...</td>\n",
       "      <td>NaN</td>\n",
       "      <td>NaN</td>\n",
       "      <td>4778</td>\n",
       "      <td>23792</td>\n",
       "      <td>https://pbs.twimg.com/media/DEYrIZwWsAA2Wo5.jpg</td>\n",
       "      <td>Pembroke</td>\n",
       "      <td>0.993225</td>\n",
       "      <td>True</td>\n",
       "      <td>Cardigan</td>\n",
       "      <td>0.003216</td>\n",
       "      <td>True</td>\n",
       "      <td>Chihuahua</td>\n",
       "      <td>0.002081</td>\n",
       "      <td>True</td>\n",
       "      <td>1.4</td>\n",
       "    </tr>\n",
       "  </tbody>\n",
       "</table>\n",
       "</div>"
      ],
      "text/plain": [
       "              tweet_id          tweet_date  source  \\\n",
       "34  884925521741709313 2017-07-12 00:01:00  iphone   \n",
       "35  884876753390489601 2017-07-11 20:47:12  iphone   \n",
       "36  884562892145688576 2017-07-11 00:00:02  iphone   \n",
       "37  884441805382717440 2017-07-10 15:58:53  iphone   \n",
       "\n",
       "                                                 text   name dog_age  \\\n",
       "34  This is Earl. He found a hat. Nervous about wh...   Earl     NaN   \n",
       "35  This is Lola. It's her first time outside. Mus...   Lola     NaN   \n",
       "36  This is Kevin. He's just so happy. 13/10 what ...  Kevin     NaN   \n",
       "37  I present to you, Pup in Hat. Pup in Hat is gr...    NaN     NaN   \n",
       "\n",
       "    retweet_count  favorite_count  \\\n",
       "34          14950           67065   \n",
       "35           4641           24311   \n",
       "36           3896           21257   \n",
       "37           4778           23792   \n",
       "\n",
       "                                            jpg_url                 p1  \\\n",
       "34  https://pbs.twimg.com/media/DEfjEaNXkAAtPlj.jpg  Italian_greyhound   \n",
       "35  https://pbs.twimg.com/media/DEe2tZXXkAAwyX3.jpg               chow   \n",
       "36  https://pbs.twimg.com/media/DEaZQkfXUAEC7qB.jpg                pug   \n",
       "37  https://pbs.twimg.com/media/DEYrIZwWsAA2Wo5.jpg           Pembroke   \n",
       "\n",
       "     p1_conf  p1_dog                              p2   p2_conf  p2_dog  \\\n",
       "34  0.259916    True  American_Staffordshire_terrier  0.198451    True   \n",
       "35  0.822103    True                 Norwich_terrier  0.106075    True   \n",
       "36  0.546406    True                  French_bulldog  0.404291    True   \n",
       "37  0.993225    True                        Cardigan  0.003216    True   \n",
       "\n",
       "                           p3   p3_conf  p3_dog  dog_rating  \n",
       "34  Staffordshire_bullterrier  0.127725    True         1.2  \n",
       "35            Norfolk_terrier  0.037348    True         1.3  \n",
       "36          Brabancon_griffon  0.044002    True         1.3  \n",
       "37                  Chihuahua  0.002081    True         1.4  "
      ]
     },
     "execution_count": 46,
     "metadata": {},
     "output_type": "execute_result"
    }
   ],
   "source": [
    "new_complete_df.iloc[34:38, :]"
   ]
  },
  {
   "cell_type": "markdown",
   "id": "5824b6fb",
   "metadata": {},
   "source": [
    "#### code"
   ]
  },
  {
   "cell_type": "code",
   "execution_count": 47,
   "id": "7285b25d",
   "metadata": {},
   "outputs": [],
   "source": [
    "confidence = []\n",
    "breed_predicted = []\n",
    "for row in new_complete_df.itertuples():\n",
    "    if (row.p1_dog == np.nan) and (row.p2_dog == np.nan) and (row.p3_dog == np.nan):\n",
    "        breed_conf = np.nan\n",
    "        breed_name = np.nan\n",
    "        tweet_id = row.tweet_id\n",
    "    breed_conf = 0\n",
    "    if (row.p1_dog == True) and (row.p1_conf > breed_conf):\n",
    "        breed_conf = row.p1_conf\n",
    "        breed_name = row.p1\n",
    "        tweet_id = row.tweet_id\n",
    "    if (row.p2_dog == True) and (row.p2_conf > breed_conf):\n",
    "        breed_conf = row.p2_conf\n",
    "        breed_name = row.p2\n",
    "        tweet_id = row.tweet_id\n",
    "    if (row.p3_dog == True) and (row.p3_conf > breed_conf):\n",
    "        breed_conf = row.p3_conf\n",
    "        breed_name = row.p3\n",
    "        tweet_id = row.tweet_id\n",
    "    if (row.p1_dog == False) and (row.p2_dog == False) and (row.p3_dog == False):\n",
    "        breed_conf = np.nan\n",
    "        breed_name = np.nan\n",
    "        tweet_id = row.tweet_id\n",
    "\n",
    "    breed_predicted.append({'breed_name': breed_name,\n",
    "                            'breed_conf': breed_conf,\n",
    "                            'tweet_id': tweet_id})\n",
    "dog_prediction_df = pd.DataFrame(breed_predicted)\n",
    "new_complete_df = pd.merge(left = new_complete_df, right = dog_prediction_df, on = 'tweet_id')\n",
    "new_complete_df.drop(columns = [\"p1\", \"p1_conf\", \"p1_dog\", \"p2\", \"p2_conf\", \"p2_dog\", \"p3\", \"p3_conf\", \"p3_dog\"], axis = 1, inplace = True)\n"
   ]
  },
  {
   "cell_type": "markdown",
   "id": "6d7aec55",
   "metadata": {},
   "source": [
    "#### Test"
   ]
  },
  {
   "cell_type": "code",
   "execution_count": 48,
   "id": "3f281045",
   "metadata": {},
   "outputs": [
    {
     "name": "stdout",
     "output_type": "stream",
     "text": [
      "<class 'pandas.core.frame.DataFrame'>\n",
      "Int64Index: 2032 entries, 0 to 2031\n",
      "Data columns (total 12 columns):\n",
      " #   Column          Non-Null Count  Dtype         \n",
      "---  ------          --------------  -----         \n",
      " 0   tweet_id        2032 non-null   int64         \n",
      " 1   tweet_date      2032 non-null   datetime64[ns]\n",
      " 2   source          2032 non-null   object        \n",
      " 3   text            2032 non-null   object        \n",
      " 4   name            1380 non-null   object        \n",
      " 5   dog_age         317 non-null    object        \n",
      " 6   retweet_count   2032 non-null   int64         \n",
      " 7   favorite_count  2032 non-null   int64         \n",
      " 8   jpg_url         2032 non-null   object        \n",
      " 9   dog_rating      2032 non-null   float64       \n",
      " 10  breed_name      1715 non-null   object        \n",
      " 11  breed_conf      1715 non-null   float64       \n",
      "dtypes: datetime64[ns](1), float64(2), int64(3), object(6)\n",
      "memory usage: 206.4+ KB\n"
     ]
    }
   ],
   "source": [
    "new_complete_df.info()"
   ]
  },
  {
   "cell_type": "code",
   "execution_count": 49,
   "id": "78c6593d",
   "metadata": {},
   "outputs": [
    {
     "data": {
      "text/plain": [
       "(2032, 12)"
      ]
     },
     "execution_count": 49,
     "metadata": {},
     "output_type": "execute_result"
    }
   ],
   "source": [
    "new_complete_df.shape"
   ]
  },
  {
   "cell_type": "markdown",
   "id": "e4195ea0",
   "metadata": {},
   "source": [
    "## Storing Data"
   ]
  },
  {
   "cell_type": "code",
   "execution_count": 50,
   "id": "5ed71294",
   "metadata": {},
   "outputs": [],
   "source": [
    "new_complete_df.to_csv('twitter_archive_master.csv', index = False)"
   ]
  },
  {
   "cell_type": "markdown",
   "id": "c6a97888",
   "metadata": {},
   "source": [
    "## Analyzing and Visualizing Data\n",
    "In this section, analyze and visualize your wrangled data. You must produce at least **three (3) insights and one (1) visualization.**"
   ]
  },
  {
   "cell_type": "markdown",
   "id": "4e35cf38",
   "metadata": {},
   "source": [
    "#### Insight 1: Are top 10 most favored the top 10 most re-tweeted dog breed?"
   ]
  },
  {
   "cell_type": "code",
   "execution_count": 51,
   "id": "691d6e5d",
   "metadata": {},
   "outputs": [
    {
     "data": {
      "text/html": [
       "<style type=\"text/css\">\n",
       "</style>\n",
       "<table id=\"T_2fea5\" style='display:inline'>\n",
       "  <caption>top_10_favorite table</caption>\n",
       "  <thead>\n",
       "    <tr>\n",
       "      <th class=\"blank level0\" >&nbsp;</th>\n",
       "      <th id=\"T_2fea5_level0_col0\" class=\"col_heading level0 col0\" >favorite_count</th>\n",
       "    </tr>\n",
       "    <tr>\n",
       "      <th class=\"index_name level0\" >breed_name</th>\n",
       "      <th class=\"blank col0\" >&nbsp;</th>\n",
       "    </tr>\n",
       "  </thead>\n",
       "  <tbody>\n",
       "    <tr>\n",
       "      <th id=\"T_2fea5_level0_row0\" class=\"row_heading level0 row0\" >Labrador_retriever</th>\n",
       "      <td id=\"T_2fea5_row0_col0\" class=\"data row0 col0\" >144334</td>\n",
       "    </tr>\n",
       "    <tr>\n",
       "      <th id=\"T_2fea5_level0_row1\" class=\"row_heading level0 row1\" >Lakeland_terrier</th>\n",
       "      <td id=\"T_2fea5_row1_col0\" class=\"data row1 col0\" >123624</td>\n",
       "    </tr>\n",
       "    <tr>\n",
       "      <th id=\"T_2fea5_level0_row2\" class=\"row_heading level0 row2\" >Chihuahua</th>\n",
       "      <td id=\"T_2fea5_row2_col0\" class=\"data row2 col0\" >111268</td>\n",
       "    </tr>\n",
       "    <tr>\n",
       "      <th id=\"T_2fea5_level0_row3\" class=\"row_heading level0 row3\" >French_bulldog</th>\n",
       "      <td id=\"T_2fea5_row3_col0\" class=\"data row3 col0\" >108489</td>\n",
       "    </tr>\n",
       "    <tr>\n",
       "      <th id=\"T_2fea5_level0_row4\" class=\"row_heading level0 row4\" >Eskimo_dog</th>\n",
       "      <td id=\"T_2fea5_row4_col0\" class=\"data row4 col0\" >106854</td>\n",
       "    </tr>\n",
       "    <tr>\n",
       "      <th id=\"T_2fea5_level0_row5\" class=\"row_heading level0 row5\" >English_springer</th>\n",
       "      <td id=\"T_2fea5_row5_col0\" class=\"data row5 col0\" >92550</td>\n",
       "    </tr>\n",
       "    <tr>\n",
       "      <th id=\"T_2fea5_level0_row6\" class=\"row_heading level0 row6\" >standard_poodle</th>\n",
       "      <td id=\"T_2fea5_row6_col0\" class=\"data row6 col0\" >82433</td>\n",
       "    </tr>\n",
       "    <tr>\n",
       "      <th id=\"T_2fea5_level0_row7\" class=\"row_heading level0 row7\" >malamute</th>\n",
       "      <td id=\"T_2fea5_row7_col0\" class=\"data row7 col0\" >80329</td>\n",
       "    </tr>\n",
       "    <tr>\n",
       "      <th id=\"T_2fea5_level0_row8\" class=\"row_heading level0 row8\" >golden_retriever</th>\n",
       "      <td id=\"T_2fea5_row8_col0\" class=\"data row8 col0\" >73749</td>\n",
       "    </tr>\n",
       "    <tr>\n",
       "      <th id=\"T_2fea5_level0_row9\" class=\"row_heading level0 row9\" >Bedlington_terrier</th>\n",
       "      <td id=\"T_2fea5_row9_col0\" class=\"data row9 col0\" >73239</td>\n",
       "    </tr>\n",
       "  </tbody>\n",
       "</table>\n",
       "<style type=\"text/css\">\n",
       "</style>\n",
       "<table id=\"T_da3a6\" style='display:inline'>\n",
       "  <caption>top_10_re_tweet table</caption>\n",
       "  <thead>\n",
       "    <tr>\n",
       "      <th class=\"blank level0\" >&nbsp;</th>\n",
       "      <th id=\"T_da3a6_level0_col0\" class=\"col_heading level0 col0\" >retweet_count</th>\n",
       "    </tr>\n",
       "    <tr>\n",
       "      <th class=\"index_name level0\" >breed_name</th>\n",
       "      <th class=\"blank col0\" >&nbsp;</th>\n",
       "    </tr>\n",
       "  </thead>\n",
       "  <tbody>\n",
       "    <tr>\n",
       "      <th id=\"T_da3a6_level0_row0\" class=\"row_heading level0 row0\" >Labrador_retriever</th>\n",
       "      <td id=\"T_da3a6_row0_col0\" class=\"data row0 col0\" >70378</td>\n",
       "    </tr>\n",
       "    <tr>\n",
       "      <th id=\"T_da3a6_level0_row1\" class=\"row_heading level0 row1\" >Eskimo_dog</th>\n",
       "      <td id=\"T_da3a6_row1_col0\" class=\"data row1 col0\" >52665</td>\n",
       "    </tr>\n",
       "    <tr>\n",
       "      <th id=\"T_da3a6_level0_row2\" class=\"row_heading level0 row2\" >Chihuahua</th>\n",
       "      <td id=\"T_da3a6_row2_col0\" class=\"data row2 col0\" >51455</td>\n",
       "    </tr>\n",
       "    <tr>\n",
       "      <th id=\"T_da3a6_level0_row3\" class=\"row_heading level0 row3\" >Lakeland_terrier</th>\n",
       "      <td id=\"T_da3a6_row3_col0\" class=\"data row3 col0\" >39788</td>\n",
       "    </tr>\n",
       "    <tr>\n",
       "      <th id=\"T_da3a6_level0_row4\" class=\"row_heading level0 row4\" >English_springer</th>\n",
       "      <td id=\"T_da3a6_row4_col0\" class=\"data row4 col0\" >37291</td>\n",
       "    </tr>\n",
       "    <tr>\n",
       "      <th id=\"T_da3a6_level0_row5\" class=\"row_heading level0 row5\" >standard_poodle</th>\n",
       "      <td id=\"T_da3a6_row5_col0\" class=\"data row5 col0\" >34438</td>\n",
       "    </tr>\n",
       "    <tr>\n",
       "      <th id=\"T_da3a6_level0_row6\" class=\"row_heading level0 row6\" >cocker_spaniel</th>\n",
       "      <td id=\"T_da3a6_row6_col0\" class=\"data row6 col0\" >32240</td>\n",
       "    </tr>\n",
       "    <tr>\n",
       "      <th id=\"T_da3a6_level0_row7\" class=\"row_heading level0 row7\" >French_bulldog</th>\n",
       "      <td id=\"T_da3a6_row7_col0\" class=\"data row7 col0\" >30072</td>\n",
       "    </tr>\n",
       "    <tr>\n",
       "      <th id=\"T_da3a6_level0_row8\" class=\"row_heading level0 row8\" >Bedlington_terrier</th>\n",
       "      <td id=\"T_da3a6_row8_col0\" class=\"data row8 col0\" >28471</td>\n",
       "    </tr>\n",
       "    <tr>\n",
       "      <th id=\"T_da3a6_level0_row9\" class=\"row_heading level0 row9\" >whippet</th>\n",
       "      <td id=\"T_da3a6_row9_col0\" class=\"data row9 col0\" >27667</td>\n",
       "    </tr>\n",
       "  </tbody>\n",
       "</table>\n"
      ]
     },
     "metadata": {},
     "output_type": "display_data"
    }
   ],
   "source": [
    "# top 10 most favored dog breed\n",
    "\n",
    "top_10_favorite = new_complete_df.groupby('breed_name')['favorite_count'].max().nlargest(10).to_frame()\n",
    "\n",
    "top_10_re_tweet = new_complete_df.groupby('breed_name')['retweet_count'].max().nlargest(10).to_frame()\n",
    "\n",
    "\n",
    "# display top_10_favorite and top_10_re_tweet side by side\n",
    "from IPython.display import display_html \n",
    "\n",
    "top_10_favorite_styler = top_10_favorite.style.set_table_attributes(\"style='display:inline'\").set_caption('top_10_favorite table')\n",
    "top_10_re_tweet_styler = top_10_re_tweet.style.set_table_attributes(\"style='display:inline'\").set_caption('top_10_re_tweet table')\n",
    "\n",
    "display_html(top_10_favorite_styler._repr_html_()+top_10_re_tweet_styler._repr_html_(), raw=True)"
   ]
  },
  {
   "cell_type": "markdown",
   "id": "3fa53f1c",
   "metadata": {},
   "source": [
    "#### Observation\n",
    "\n",
    "##### Favorite_count did not correspond with the retweet_count\n",
    "* Labrodor_retriever has both the highest favorite_count and retweet_count\n",
    "* Lakeland_terrier is the breed with the second highest favorite_count but is the fourth most retweeted.\n",
    "* Eskimo_dog has the second highest most retweet count but was the fifth most favorite breed.\n",
    "* Whippet (tenth) and cocker_spaniel (seventh) on the top 10 retweet_count are not among the top 10 favorite_count\n",
    "* Malamute (eighth) and Golden_retriever (nineth) on the top 10 favorite_count table are not among the top 10 retweet_count\n",
    "\n",
    "\n",
    "#### Reference \n",
    "\n",
    "[reference of the code to put the table side by side](https://stackoverflow.com/questions/38783027/jupyter-notebook-display-two-pandas-tables-side-by-side#:~:text=To%20display%20two%20DataFrames%20side%20by%20side%20you,HTML%20representation%20through%20the%20display_html%20method%20from%20IPython.)"
   ]
  },
  {
   "cell_type": "markdown",
   "id": "2c2fc495",
   "metadata": {},
   "source": [
    "#### Insight 2: Is dog breed with the highest re-tweet from the age class with the highest average rating ? "
   ]
  },
  {
   "cell_type": "code",
   "execution_count": 52,
   "id": "f48c4f7a",
   "metadata": {},
   "outputs": [
    {
     "data": {
      "text/plain": [
       "dog_age\n",
       "floofer    1.200000\n",
       "puppo      1.200000\n",
       "doggo      1.183333\n",
       "pupper     1.067464\n",
       "Name: dog_rating, dtype: float64"
      ]
     },
     "execution_count": 52,
     "metadata": {},
     "output_type": "execute_result"
    }
   ],
   "source": [
    "# dog age with their average rating \n",
    "new_complete_df.groupby('dog_age')['dog_rating'].mean().sort_values(ascending = False)"
   ]
  },
  {
   "cell_type": "markdown",
   "id": "1061e2f3",
   "metadata": {},
   "source": [
    "#### observations\n",
    "* floolfer and puppo has the highest average rating of 1.2\n",
    "* doggo came second with 1.183333"
   ]
  },
  {
   "cell_type": "code",
   "execution_count": 53,
   "id": "c5fae3a9",
   "metadata": {},
   "outputs": [
    {
     "name": "stdout",
     "output_type": "stream",
     "text": [
      "['doggo'] has the highest retweet_count\n"
     ]
    }
   ],
   "source": [
    "# highest retweet_count\n",
    "max_retweet_count = new_complete_df['retweet_count'].max()\n",
    "\n",
    "# dog age of the breed with the highest retweet_count\n",
    "dog_name_highest_retweet = new_complete_df[new_complete_df['retweet_count'] == max_retweet_count]['dog_age']\n",
    "\n",
    "print(dog_name_highest_retweet.values, 'has the highest retweet_count')"
   ]
  },
  {
   "cell_type": "markdown",
   "id": "9ef29d71",
   "metadata": {},
   "source": [
    "#### Observation\n",
    "##### The age of the breed with the highest retweet_count is not in the dog_age class with the highest rating\n",
    "* floofer and puppo has the highest rating with the value of 1.2\n",
    "* dog with the highest retweet_count belong to the dog_age class doggo which has average rating of 1.183333"
   ]
  },
  {
   "cell_type": "markdown",
   "id": "7df6406f",
   "metadata": {},
   "source": [
    "#### Insight  3: Which tweet source has the highest average rating of dog?"
   ]
  },
  {
   "cell_type": "code",
   "execution_count": 54,
   "id": "a45c987e",
   "metadata": {},
   "outputs": [
    {
     "data": {
      "text/plain": [
       "source\n",
       "tweetdeck      1.122222\n",
       "iphone         1.060311\n",
       "twitter_web    1.006667\n",
       "Name: dog_rating, dtype: float64"
      ]
     },
     "execution_count": 54,
     "metadata": {},
     "output_type": "execute_result"
    }
   ],
   "source": [
    "new_complete_df.groupby('source')['dog_rating'].mean().sort_values(ascending= False)"
   ]
  },
  {
   "cell_type": "code",
   "execution_count": 55,
   "id": "086f8568",
   "metadata": {},
   "outputs": [
    {
     "data": {
      "text/plain": [
       "iphone         1993\n",
       "twitter_web      30\n",
       "tweetdeck         9\n",
       "Name: source, dtype: int64"
      ]
     },
     "execution_count": 55,
     "metadata": {},
     "output_type": "execute_result"
    }
   ],
   "source": [
    "new_complete_df.source.value_counts()"
   ]
  },
  {
   "cell_type": "markdown",
   "id": "93cfaffd",
   "metadata": {},
   "source": [
    "#### Observation\n",
    "* tweetdeck is the souce use to tweet dogs with the highest average rating\n",
    "* iphone came second"
   ]
  },
  {
   "cell_type": "markdown",
   "id": "ffa34e55",
   "metadata": {},
   "source": [
    "### visualization 1: what is the major source of the tweet?"
   ]
  },
  {
   "cell_type": "code",
   "execution_count": 56,
   "id": "08b4f3f3",
   "metadata": {},
   "outputs": [
    {
     "data": {
      "image/png": "[encoded data removed]",
      "text/plain": [
       "<Figure size 864x504 with 1 Axes>"
      ]
     },
     "metadata": {},
     "output_type": "display_data"
    }
   ],
   "source": [
    "tweet_source = new_complete_df.source.value_counts()\n",
    "\n",
    "plt.figure(figsize = (12,7))\n",
    "plt.pie(x =tweet_source, labels = tweet_source.index, startangle = 90, explode = [0, 0, 0.2], shadow = True, autopct = '%.2f%%', pctdistance = 1.2);\n",
    "plt.savefig('source.png')"
   ]
  },
  {
   "cell_type": "markdown",
   "id": "2456ff84",
   "metadata": {},
   "source": [
    "#### Download the image of the top 5 dog breed with favourite counts"
   ]
  },
  {
   "cell_type": "code",
   "execution_count": 57,
   "id": "a3131a89",
   "metadata": {},
   "outputs": [],
   "source": [
    "# top_5_favorite_count = top_10_favorite.favorite_count[:5]\n",
    "# top_5_favorite_count_df = new_complete_df[new_complete_df.favorite_count.isin(top_5_favorite_count)]\n",
    "\n",
    "\n",
    "# picture_folder = 'top_5_favorite' \n",
    "\n",
    "# if not os.path.exists(picture_folder):\n",
    "#     os.makedirs(picture_folder)\n",
    "\n",
    "# # download the image of dogs with the highest favourite\n",
    "# for i in top_5_favorite_count_df.index:\n",
    "#     url = top_5_favorite_count_df.loc[i, 'jpg_url']\n",
    "#     name = top_5_favorite_count_df.loc[i, 'breed_name']\n",
    "    \n",
    "#     response = requests.get(url)\n",
    "#     i = Image.open(BytesIO(response.content))\n",
    "#     image_file_format = url.split('.')[-1]\n",
    "#     i.save(picture_folder + \"/\" + name+ \".\" + image_file_format)\n",
    "#     print(name)"
   ]
  }
 ],
 "metadata": {
  "kernelspec": {
   "display_name": "Python 3 (ipykernel)",
   "language": "python",
   "name": "python3"
  },
  "language_info": {
   "codemirror_mode": {
    "name": "ipython",
    "version": 3
   },
   "file_extension": ".py",
   "mimetype": "text/x-python",
   "name": "python",
   "nbconvert_exporter": "python",
   "pygments_lexer": "ipython3",
   "version": "3.9.7"
  }
 },
 "nbformat": 4,
 "nbformat_minor": 5
}
